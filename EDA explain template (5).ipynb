{
 "cells": [
  {
   "cell_type": "code",
   "execution_count": 1,
   "id": "e69c4ba1-85f3-4a02-ae37-c64347a01803",
   "metadata": {},
   "outputs": [
    {
     "name": "stderr",
     "output_type": "stream",
     "text": [
      "C:\\Users\\مهند\\AppData\\Roaming\\Python\\Python39\\site-packages\\pandas\\core\\computation\\expressions.py:21: UserWarning: Pandas requires version '2.8.4' or newer of 'numexpr' (version '2.8.3' currently installed).\n",
      "  from pandas.core.computation.check import NUMEXPR_INSTALLED\n",
      "C:\\Users\\مهند\\AppData\\Roaming\\Python\\Python39\\site-packages\\pandas\\core\\arrays\\masked.py:60: UserWarning: Pandas requires version '1.3.6' or newer of 'bottleneck' (version '1.3.5' currently installed).\n",
      "  from pandas.core import (\n"
     ]
    }
   ],
   "source": [
    "#Import all relevant libraries\n",
    "import numpy as np\n",
    "import pandas as pd\n",
    "import matplotlib.pyplot as plt\n",
    "import seaborn as sns\n",
    "import plotly.express as px\n",
    "import streamlit as st\n",
    "import plotly.graph_objects as go\n",
    "from scipy.stats import zscore\n",
    "import dtale\n",
    "import sweetviz as sv\n",
    "import pickle\n",
    "## This statement allows the visuals to render within your Jupyter Notebook.\n",
    "%matplotlib inline"
   ]
  },
  {
   "cell_type": "markdown",
   "id": "e395e8bf-b530-4720-8d0f-26811e927d6e",
   "metadata": {},
   "source": [
    "## Loading the data\n",
    "We can now load the dataset into pandas using the read_csv() function. This converts the CSV file into a Pandas dataframe."
   ]
  },
  {
   "cell_type": "code",
   "execution_count": 2,
   "id": "cf4030b0-aa7f-4bd7-8e9c-c1b7f4d202d0",
   "metadata": {},
   "outputs": [],
   "source": [
    "#Read in the csv file and convert to a Pandas dataframe\n",
    "df = pd.read_csv(\"Jadarat_data.csv\")"
   ]
  },
  {
   "cell_type": "markdown",
   "id": "ca5ed983-0f72-43eb-8168-6fafd48c562e",
   "metadata": {},
   "source": [
    "### Viewing the dataframe\n",
    "We can get a quick sense of the size of our dataset by using the shape method. This returns a tuple with the number of rows and columns in the dataset."
   ]
  },
  {
   "cell_type": "code",
   "execution_count": 3,
   "id": "bfde0b69-613c-4dd1-8ebf-e4d2e570e653",
   "metadata": {},
   "outputs": [
    {
     "data": {
      "text/html": [
       "<div>\n",
       "<style scoped>\n",
       "    .dataframe tbody tr th:only-of-type {\n",
       "        vertical-align: middle;\n",
       "    }\n",
       "\n",
       "    .dataframe tbody tr th {\n",
       "        vertical-align: top;\n",
       "    }\n",
       "\n",
       "    .dataframe thead th {\n",
       "        text-align: right;\n",
       "    }\n",
       "</style>\n",
       "<table border=\"1\" class=\"dataframe\">\n",
       "  <thead>\n",
       "    <tr style=\"text-align: right;\">\n",
       "      <th></th>\n",
       "      <th>job_title</th>\n",
       "      <th>job_date</th>\n",
       "      <th>job_desc</th>\n",
       "      <th>job_tasks</th>\n",
       "      <th>comp_name</th>\n",
       "      <th>comp_no</th>\n",
       "      <th>comp_type</th>\n",
       "      <th>comp_size</th>\n",
       "      <th>eco_activity</th>\n",
       "      <th>qualif</th>\n",
       "      <th>region</th>\n",
       "      <th>city</th>\n",
       "      <th>benefits</th>\n",
       "      <th>contract</th>\n",
       "      <th>positions</th>\n",
       "      <th>job_post_id</th>\n",
       "      <th>exper</th>\n",
       "      <th>gender</th>\n",
       "    </tr>\n",
       "  </thead>\n",
       "  <tbody>\n",
       "    <tr>\n",
       "      <th>0</th>\n",
       "      <td>محاسب</td>\n",
       "      <td>27/05/1444</td>\n",
       "      <td>['إعداد وتنظيم مستندات الصرف ومتابعة تحصيل الإ...</td>\n",
       "      <td>['   تدقيق المطالبات المالية والتأكد من اكتمال...</td>\n",
       "      <td>شركة مقر العالم للسفريات</td>\n",
       "      <td>1-317262</td>\n",
       "      <td>خاص</td>\n",
       "      <td>متوسطة فئة أ</td>\n",
       "      <td>أنشطة وكالات السياحة والسفر</td>\n",
       "      <td>['Language data', 'اللغة الانجليزية', 'محترف']</td>\n",
       "      <td>الرياض</td>\n",
       "      <td>AR RIYADH...</td>\n",
       "      <td>['Salary', '5000.0']</td>\n",
       "      <td>دوام كامل</td>\n",
       "      <td>0 / 1</td>\n",
       "      <td>20202026350419</td>\n",
       "      <td>0 Years</td>\n",
       "      <td>both</td>\n",
       "    </tr>\n",
       "    <tr>\n",
       "      <th>1</th>\n",
       "      <td>بائع</td>\n",
       "      <td>27/05/1444</td>\n",
       "      <td>['بيع مجموعة من السلع والخدمات للعملاء، وتوفير...</td>\n",
       "      <td>['   بيع مجموعة من السلع والخدمات للعملاء.', '...</td>\n",
       "      <td>شركة عالم الكهرباء للمقاولات</td>\n",
       "      <td>4-1324428</td>\n",
       "      <td>خاص</td>\n",
       "      <td>متوسطة فئة ب</td>\n",
       "      <td>تركيب انظمة التبريد وتكييف الهواء وصيانتها واص...</td>\n",
       "      <td>NaN</td>\n",
       "      <td>المنطقة الشرقية</td>\n",
       "      <td>AD DAMMAM...</td>\n",
       "      <td>['Salary', '5000.0']</td>\n",
       "      <td>دوام كامل</td>\n",
       "      <td>0 / 3</td>\n",
       "      <td>20202026350389</td>\n",
       "      <td>0 Years</td>\n",
       "      <td>both</td>\n",
       "    </tr>\n",
       "    <tr>\n",
       "      <th>2</th>\n",
       "      <td>أخصائي عمليات موارد بشرية</td>\n",
       "      <td>27/05/1444</td>\n",
       "      <td>['تنفيذ الإجراءات والأنظمة والنماذج الخاصة بمر...</td>\n",
       "      <td>['   تنفيذ الإجراءات والأنظمة والنماذج الخاصة ...</td>\n",
       "      <td>شركه دار السلام</td>\n",
       "      <td>1-155294</td>\n",
       "      <td>خاص</td>\n",
       "      <td>متوسطة فئة أ</td>\n",
       "      <td>ترميمات المباني السكنية والغير سكنية</td>\n",
       "      <td>['Language data', 'الانجليزيه', 'محترف']</td>\n",
       "      <td>الرياض</td>\n",
       "      <td>ATH THUMA...</td>\n",
       "      <td>['Salary', '4000.0']</td>\n",
       "      <td>دوام كامل</td>\n",
       "      <td>0 / 2</td>\n",
       "      <td>20202026350347</td>\n",
       "      <td>2 Years</td>\n",
       "      <td>both</td>\n",
       "    </tr>\n",
       "    <tr>\n",
       "      <th>3</th>\n",
       "      <td>ميكانيكي سيارات</td>\n",
       "      <td>27/05/1444</td>\n",
       "      <td>['تشخيص أعطال السيارات وإصلاحها وتنفيذ برامج ا...</td>\n",
       "      <td>['   فحص أداء المعدّات الكهربائية والميكانيكية...</td>\n",
       "      <td>مؤسسة لمكو لغيار الزيوت</td>\n",
       "      <td>8-1925495</td>\n",
       "      <td>خاص</td>\n",
       "      <td>صغيرة فئة ب</td>\n",
       "      <td>NaN</td>\n",
       "      <td>['Skill data', 'صيانة السيارات وتقييم الاعطال'...</td>\n",
       "      <td>المنطقة الشرقية</td>\n",
       "      <td>AL HUFUF...</td>\n",
       "      <td>['Salary', '5000.0']</td>\n",
       "      <td>دوام كامل</td>\n",
       "      <td>0 / 10</td>\n",
       "      <td>20202026350219</td>\n",
       "      <td>0 Years</td>\n",
       "      <td>M</td>\n",
       "    </tr>\n",
       "    <tr>\n",
       "      <th>4</th>\n",
       "      <td>محاسب</td>\n",
       "      <td>27/05/1444</td>\n",
       "      <td>['إعداد وتنظيم مستندات الصرف ومتابعة تحصيل الإ...</td>\n",
       "      <td>['   تدقيق المطالبات المالية والتأكد من اكتمال...</td>\n",
       "      <td>مؤسسة فكرة اليمامة للمقاولات</td>\n",
       "      <td>1-2356639</td>\n",
       "      <td>خاص</td>\n",
       "      <td>كبيرة</td>\n",
       "      <td>الإنشاءات العامة للمباني السكنية</td>\n",
       "      <td>['Skill data', 'تحمل ضغط العمل', 'محترف', 'Lan...</td>\n",
       "      <td>الرياض</td>\n",
       "      <td>AR RIYADH...</td>\n",
       "      <td>['Salary', '5000.0']</td>\n",
       "      <td>دوام كامل</td>\n",
       "      <td>0 / 1</td>\n",
       "      <td>20202026350043</td>\n",
       "      <td>0 Years</td>\n",
       "      <td>both</td>\n",
       "    </tr>\n",
       "  </tbody>\n",
       "</table>\n",
       "</div>"
      ],
      "text/plain": [
       "                   job_title    job_date  \\\n",
       "0                      محاسب  27/05/1444   \n",
       "1                       بائع  27/05/1444   \n",
       "2  أخصائي عمليات موارد بشرية  27/05/1444   \n",
       "3            ميكانيكي سيارات  27/05/1444   \n",
       "4                      محاسب  27/05/1444   \n",
       "\n",
       "                                            job_desc  \\\n",
       "0  ['إعداد وتنظيم مستندات الصرف ومتابعة تحصيل الإ...   \n",
       "1  ['بيع مجموعة من السلع والخدمات للعملاء، وتوفير...   \n",
       "2  ['تنفيذ الإجراءات والأنظمة والنماذج الخاصة بمر...   \n",
       "3  ['تشخيص أعطال السيارات وإصلاحها وتنفيذ برامج ا...   \n",
       "4  ['إعداد وتنظيم مستندات الصرف ومتابعة تحصيل الإ...   \n",
       "\n",
       "                                           job_tasks  \\\n",
       "0  ['   تدقيق المطالبات المالية والتأكد من اكتمال...   \n",
       "1  ['   بيع مجموعة من السلع والخدمات للعملاء.', '...   \n",
       "2  ['   تنفيذ الإجراءات والأنظمة والنماذج الخاصة ...   \n",
       "3  ['   فحص أداء المعدّات الكهربائية والميكانيكية...   \n",
       "4  ['   تدقيق المطالبات المالية والتأكد من اكتمال...   \n",
       "\n",
       "                      comp_name    comp_no comp_type     comp_size  \\\n",
       "0      شركة مقر العالم للسفريات   1-317262       خاص  متوسطة فئة أ   \n",
       "1  شركة عالم الكهرباء للمقاولات  4-1324428       خاص  متوسطة فئة ب   \n",
       "2               شركه دار السلام   1-155294       خاص  متوسطة فئة أ   \n",
       "3       مؤسسة لمكو لغيار الزيوت  8-1925495       خاص   صغيرة فئة ب   \n",
       "4  مؤسسة فكرة اليمامة للمقاولات  1-2356639       خاص         كبيرة   \n",
       "\n",
       "                                        eco_activity  \\\n",
       "0                        أنشطة وكالات السياحة والسفر   \n",
       "1  تركيب انظمة التبريد وتكييف الهواء وصيانتها واص...   \n",
       "2               ترميمات المباني السكنية والغير سكنية   \n",
       "3                                                NaN   \n",
       "4                   الإنشاءات العامة للمباني السكنية   \n",
       "\n",
       "                                              qualif           region  \\\n",
       "0     ['Language data', 'اللغة الانجليزية', 'محترف']           الرياض   \n",
       "1                                                NaN  المنطقة الشرقية   \n",
       "2           ['Language data', 'الانجليزيه', 'محترف']           الرياض   \n",
       "3  ['Skill data', 'صيانة السيارات وتقييم الاعطال'...  المنطقة الشرقية   \n",
       "4  ['Skill data', 'تحمل ضغط العمل', 'محترف', 'Lan...           الرياض   \n",
       "\n",
       "           city              benefits   contract positions     job_post_id  \\\n",
       "0  AR RIYADH...  ['Salary', '5000.0']  دوام كامل     0 / 1  20202026350419   \n",
       "1  AD DAMMAM...  ['Salary', '5000.0']  دوام كامل     0 / 3  20202026350389   \n",
       "2  ATH THUMA...  ['Salary', '4000.0']  دوام كامل     0 / 2  20202026350347   \n",
       "3   AL HUFUF...  ['Salary', '5000.0']  دوام كامل    0 / 10  20202026350219   \n",
       "4  AR RIYADH...  ['Salary', '5000.0']  دوام كامل     0 / 1  20202026350043   \n",
       "\n",
       "     exper gender  \n",
       "0  0 Years   both  \n",
       "1  0 Years   both  \n",
       "2  2 Years   both  \n",
       "3  0 Years      M  \n",
       "4  0 Years   both  "
      ]
     },
     "execution_count": 3,
     "metadata": {},
     "output_type": "execute_result"
    }
   ],
   "source": [
    "df.head()"
   ]
  },
  {
   "cell_type": "code",
   "execution_count": 11,
   "id": "04da1583",
   "metadata": {},
   "outputs": [
    {
     "name": "stdout",
     "output_type": "stream",
     "text": [
      "<class 'pandas.core.frame.DataFrame'>\n",
      "RangeIndex: 1470 entries, 0 to 1469\n",
      "Data columns (total 13 columns):\n",
      " #   Column     Non-Null Count  Dtype \n",
      "---  ------     --------------  ----- \n",
      " 0   job_title  1470 non-null   object\n",
      " 1   job_tasks  1470 non-null   object\n",
      " 2   comp_name  1470 non-null   object\n",
      " 3   comp_type  1470 non-null   object\n",
      " 4   comp_size  1456 non-null   object\n",
      " 5   qualif     780 non-null    object\n",
      " 6   region     1470 non-null   object\n",
      " 7   city       1470 non-null   object\n",
      " 8   benefits   1470 non-null   object\n",
      " 9   contract   1470 non-null   object\n",
      " 10  positions  1470 non-null   object\n",
      " 11  exper      1470 non-null   object\n",
      " 12  gender     1470 non-null   object\n",
      "dtypes: object(13)\n",
      "memory usage: 149.4+ KB\n"
     ]
    }
   ],
   "source": [
    "df.info()"
   ]
  },
  {
   "cell_type": "code",
   "execution_count": 12,
   "id": "06f94fe7",
   "metadata": {},
   "outputs": [
    {
     "data": {
      "text/html": [
       "<div>\n",
       "<style scoped>\n",
       "    .dataframe tbody tr th:only-of-type {\n",
       "        vertical-align: middle;\n",
       "    }\n",
       "\n",
       "    .dataframe tbody tr th {\n",
       "        vertical-align: top;\n",
       "    }\n",
       "\n",
       "    .dataframe thead th {\n",
       "        text-align: right;\n",
       "    }\n",
       "</style>\n",
       "<table border=\"1\" class=\"dataframe\">\n",
       "  <thead>\n",
       "    <tr style=\"text-align: right;\">\n",
       "      <th></th>\n",
       "      <th>job_title</th>\n",
       "      <th>job_tasks</th>\n",
       "      <th>comp_name</th>\n",
       "      <th>comp_type</th>\n",
       "      <th>comp_size</th>\n",
       "      <th>qualif</th>\n",
       "      <th>region</th>\n",
       "      <th>city</th>\n",
       "      <th>benefits</th>\n",
       "      <th>contract</th>\n",
       "      <th>positions</th>\n",
       "      <th>exper</th>\n",
       "      <th>gender</th>\n",
       "    </tr>\n",
       "  </thead>\n",
       "  <tbody>\n",
       "    <tr>\n",
       "      <th>count</th>\n",
       "      <td>1470</td>\n",
       "      <td>1470</td>\n",
       "      <td>1470</td>\n",
       "      <td>1470</td>\n",
       "      <td>1456</td>\n",
       "      <td>780</td>\n",
       "      <td>1470</td>\n",
       "      <td>1470</td>\n",
       "      <td>1470</td>\n",
       "      <td>1470</td>\n",
       "      <td>1470</td>\n",
       "      <td>1470</td>\n",
       "      <td>1470</td>\n",
       "    </tr>\n",
       "    <tr>\n",
       "      <th>unique</th>\n",
       "      <td>324</td>\n",
       "      <td>444</td>\n",
       "      <td>886</td>\n",
       "      <td>2</td>\n",
       "      <td>7</td>\n",
       "      <td>615</td>\n",
       "      <td>14</td>\n",
       "      <td>114</td>\n",
       "      <td>393</td>\n",
       "      <td>2</td>\n",
       "      <td>25</td>\n",
       "      <td>6</td>\n",
       "      <td>3</td>\n",
       "    </tr>\n",
       "    <tr>\n",
       "      <th>top</th>\n",
       "      <td>بائع</td>\n",
       "      <td>['   بيع مجموعة من السلع والخدمات للعملاء.', '...</td>\n",
       "      <td>شركه العرض المتقن للخدمات التجارية شركة مساهمة...</td>\n",
       "      <td>خاص</td>\n",
       "      <td>صغيرة فئة ب</td>\n",
       "      <td>['Language data', 'الانجليزية', 'متوسط']</td>\n",
       "      <td>الرياض</td>\n",
       "      <td>AR RIYADH...</td>\n",
       "      <td>['Salary', '4000.0']</td>\n",
       "      <td>دوام كامل</td>\n",
       "      <td>0 / 1</td>\n",
       "      <td>0 Years</td>\n",
       "      <td>both</td>\n",
       "    </tr>\n",
       "    <tr>\n",
       "      <th>freq</th>\n",
       "      <td>98</td>\n",
       "      <td>90</td>\n",
       "      <td>16</td>\n",
       "      <td>1465</td>\n",
       "      <td>635</td>\n",
       "      <td>28</td>\n",
       "      <td>622</td>\n",
       "      <td>523</td>\n",
       "      <td>449</td>\n",
       "      <td>1448</td>\n",
       "      <td>853</td>\n",
       "      <td>833</td>\n",
       "      <td>587</td>\n",
       "    </tr>\n",
       "  </tbody>\n",
       "</table>\n",
       "</div>"
      ],
      "text/plain": [
       "       job_title                                          job_tasks  \\\n",
       "count       1470                                               1470   \n",
       "unique       324                                                444   \n",
       "top         بائع  ['   بيع مجموعة من السلع والخدمات للعملاء.', '...   \n",
       "freq          98                                                 90   \n",
       "\n",
       "                                                comp_name comp_type  \\\n",
       "count                                                1470      1470   \n",
       "unique                                                886         2   \n",
       "top     شركه العرض المتقن للخدمات التجارية شركة مساهمة...       خاص   \n",
       "freq                                                   16      1465   \n",
       "\n",
       "          comp_size                                    qualif  region  \\\n",
       "count          1456                                       780    1470   \n",
       "unique            7                                       615      14   \n",
       "top     صغيرة فئة ب  ['Language data', 'الانجليزية', 'متوسط']  الرياض   \n",
       "freq            635                                        28     622   \n",
       "\n",
       "                city              benefits   contract positions    exper  \\\n",
       "count           1470                  1470       1470      1470     1470   \n",
       "unique           114                   393          2        25        6   \n",
       "top     AR RIYADH...  ['Salary', '4000.0']  دوام كامل     0 / 1  0 Years   \n",
       "freq             523                   449       1448       853      833   \n",
       "\n",
       "       gender  \n",
       "count    1470  \n",
       "unique      3  \n",
       "top      both  \n",
       "freq      587  "
      ]
     },
     "execution_count": 12,
     "metadata": {},
     "output_type": "execute_result"
    }
   ],
   "source": [
    "df.describe()"
   ]
  },
  {
   "cell_type": "markdown",
   "id": "3a9954f5-6fbc-45b4-ad86-3e21b6e0ca2d",
   "metadata": {},
   "source": [
    "### Data Quality Checks\n",
    "Data quality checks involve the process of ensuring that the data is accurate, complete, consistent, relevant, and reliable. \n",
    "\n",
    "\n",
    "**Here are typical steps involved in checking data quality:**"
   ]
  },
  {
   "cell_type": "markdown",
   "id": "4818c876-173d-4e56-9e7d-b4334d2def25",
   "metadata": {},
   "source": [
    "#### 1. Reliability:\n",
    "Evaluate the data's source and collection process to determine its trustworthiness."
   ]
  },
  {
   "cell_type": "code",
   "execution_count": 58,
   "id": "9034ae7b-dc1d-4cba-8f9e-bb499d021cde",
   "metadata": {},
   "outputs": [],
   "source": [
    "#it is Reliable from from Jadarat"
   ]
  },
  {
   "cell_type": "markdown",
   "id": "2ce0cc59-8c92-4acc-8d07-c40764e1a86b",
   "metadata": {},
   "source": [
    "#### 2. Timeliness: \n",
    "Ensure the data is up-to-date and reflective of the current situation or the period of interest for the analysis."
   ]
  },
  {
   "cell_type": "markdown",
   "id": "7fab0fe2-6624-4615-b9d8-3c3669056bf8",
   "metadata": {},
   "source": [
    "#### 3. Consistency: \n",
    "\n",
    "Confirm that the data is consistent within the dataset and across multiple data sources. For example, the same data point should not have different values in different places.\n"
   ]
  },
  {
   "cell_type": "code",
   "execution_count": null,
   "id": "e09bd01f",
   "metadata": {},
   "outputs": [],
   "source": [
    "# yes, it is"
   ]
  },
  {
   "cell_type": "markdown",
   "id": "bec3d183-bba0-4b12-b963-487daab1e876",
   "metadata": {},
   "source": [
    "#### 4. Relevance: \n",
    "Assess whether the data is appropriate and applicable for the intended analysis. Data that is not relevant can skew results and lead to incorrect conclusions.\n",
    "\n",
    "**Key considerations for relevance include:**\n",
    "\n",
    "> 1. Sample Appropriateness: Confirm that your data sample aligns with your analysis objectives. For instance, utilizing data from the Northern region will not yield accurate insights for the Western region of the Kingdom.\n",
    ">\n",
    "> 2. Variable Selection: Any column will not be relevant for our analysis, we can get rid of these using the drop() method. We will set the “axis” argument to 1 since we’re dealing with columns, and set the “inplace” argument to True to make the change permanent.\n"
   ]
  },
  {
   "cell_type": "code",
   "execution_count": 5,
   "id": "50a934b7-a0cd-443f-8a27-f10e9a6e8647",
   "metadata": {
    "scrolled": true
   },
   "outputs": [],
   "source": [
    "#Remove the columns that are not relevant to case study\n",
    "df.drop(columns=[\"job_date\", \"job_desc\", \"comp_no\", \"eco_activity\", \"job_post_id\"], inplace=True)"
   ]
  },
  {
   "cell_type": "markdown",
   "id": "0f5e3a2a-bbb7-4d06-8220-c93277b70146",
   "metadata": {},
   "source": [
    "#### 5. Uniqueness: \n",
    "Check for and remove duplicate records to prevent skewed analysis results.\n"
   ]
  },
  {
   "cell_type": "code",
   "execution_count": 6,
   "id": "a509a7aa-58f4-4d39-8eb8-e8298a21f2a7",
   "metadata": {},
   "outputs": [
    {
     "data": {
      "text/plain": [
       "69"
      ]
     },
     "execution_count": 6,
     "metadata": {},
     "output_type": "execute_result"
    }
   ],
   "source": [
    "df.duplicated().sum()"
   ]
  },
  {
   "cell_type": "code",
   "execution_count": 7,
   "id": "fa4e356a",
   "metadata": {},
   "outputs": [
    {
     "data": {
      "text/html": [
       "<div>\n",
       "<style scoped>\n",
       "    .dataframe tbody tr th:only-of-type {\n",
       "        vertical-align: middle;\n",
       "    }\n",
       "\n",
       "    .dataframe tbody tr th {\n",
       "        vertical-align: top;\n",
       "    }\n",
       "\n",
       "    .dataframe thead th {\n",
       "        text-align: right;\n",
       "    }\n",
       "</style>\n",
       "<table border=\"1\" class=\"dataframe\">\n",
       "  <thead>\n",
       "    <tr style=\"text-align: right;\">\n",
       "      <th></th>\n",
       "      <th>job_title</th>\n",
       "      <th>job_tasks</th>\n",
       "      <th>comp_name</th>\n",
       "      <th>comp_type</th>\n",
       "      <th>comp_size</th>\n",
       "      <th>qualif</th>\n",
       "      <th>region</th>\n",
       "      <th>city</th>\n",
       "      <th>benefits</th>\n",
       "      <th>contract</th>\n",
       "      <th>positions</th>\n",
       "      <th>exper</th>\n",
       "      <th>gender</th>\n",
       "    </tr>\n",
       "  </thead>\n",
       "  <tbody>\n",
       "    <tr>\n",
       "      <th>137</th>\n",
       "      <td>محلل نظم المعلومات</td>\n",
       "      <td>['   جمع متطلبات العميل واحتياجاته، وإجراء الم...</td>\n",
       "      <td>شقق لجين الغربية للوحدات السكنية المفروشة</td>\n",
       "      <td>خاص</td>\n",
       "      <td>صغيرة فئة ب</td>\n",
       "      <td>['Skill data', 'برامج المايكروسوفت اوفيس', 'مح...</td>\n",
       "      <td>مكة المكرمة</td>\n",
       "      <td>JEDDAH...</td>\n",
       "      <td>['Salary', '4000.0']</td>\n",
       "      <td>دوام كامل</td>\n",
       "      <td>0 / 1</td>\n",
       "      <td>2 Years</td>\n",
       "      <td>both</td>\n",
       "    </tr>\n",
       "    <tr>\n",
       "      <th>237</th>\n",
       "      <td>محضر أطعمة باردة</td>\n",
       "      <td>['   تحديد الأدوات والمواد والمستلزمات المطلوب...</td>\n",
       "      <td>بوفية محمدحسن احمد جبر لتقديم الوجبات</td>\n",
       "      <td>خاص</td>\n",
       "      <td>صغيرة فئة ب</td>\n",
       "      <td>['Professional certificate \\\\ License data', '...</td>\n",
       "      <td>مكة المكرمة</td>\n",
       "      <td>MAKKAH AL...</td>\n",
       "      <td>['Salary', '4000.0']</td>\n",
       "      <td>دوام كامل</td>\n",
       "      <td>0 / 1</td>\n",
       "      <td>0 Years</td>\n",
       "      <td>M</td>\n",
       "    </tr>\n",
       "    <tr>\n",
       "      <th>281</th>\n",
       "      <td>سائق سيارة</td>\n",
       "      <td>['نقل الحالات إلى كافة المواعيد مستشفى , نيابة...</td>\n",
       "      <td>جمعية حماية الاسرة الخيرية</td>\n",
       "      <td>خاص</td>\n",
       "      <td>صغيرة فئة ب</td>\n",
       "      <td>NaN</td>\n",
       "      <td>الرياض</td>\n",
       "      <td>AR RIYADH...</td>\n",
       "      <td>['Salary', '4500.0']</td>\n",
       "      <td>دوام كامل</td>\n",
       "      <td>0 / 1</td>\n",
       "      <td>2 Years</td>\n",
       "      <td>both</td>\n",
       "    </tr>\n",
       "    <tr>\n",
       "      <th>289</th>\n",
       "      <td>محاسب</td>\n",
       "      <td>['   تدقيق المطالبات المالية والتأكد من اكتمال...</td>\n",
       "      <td>مؤسسة الأندلس للشقق الفندقية</td>\n",
       "      <td>خاص</td>\n",
       "      <td>صغيرة فئة ب</td>\n",
       "      <td>['Language data', 'الإنجليزية', 'متوسط']</td>\n",
       "      <td>مكة المكرمة</td>\n",
       "      <td>JEDDAH...</td>\n",
       "      <td>['Salary', '6000.0']</td>\n",
       "      <td>دوام كامل</td>\n",
       "      <td>0 / 1</td>\n",
       "      <td>2 Years</td>\n",
       "      <td>both</td>\n",
       "    </tr>\n",
       "    <tr>\n",
       "      <th>355</th>\n",
       "      <td>بائع</td>\n",
       "      <td>['   بيع مجموعة من السلع والخدمات للعملاء.', '...</td>\n",
       "      <td>مؤسسة تصميم الخزامى التجارية</td>\n",
       "      <td>خاص</td>\n",
       "      <td>صغيرة فئة ب</td>\n",
       "      <td>NaN</td>\n",
       "      <td>الرياض</td>\n",
       "      <td>HAWTAT BA...</td>\n",
       "      <td>['Salary', '4000.0']</td>\n",
       "      <td>دوام كامل</td>\n",
       "      <td>0 / 1</td>\n",
       "      <td>0 Years</td>\n",
       "      <td>M</td>\n",
       "    </tr>\n",
       "    <tr>\n",
       "      <th>...</th>\n",
       "      <td>...</td>\n",
       "      <td>...</td>\n",
       "      <td>...</td>\n",
       "      <td>...</td>\n",
       "      <td>...</td>\n",
       "      <td>...</td>\n",
       "      <td>...</td>\n",
       "      <td>...</td>\n",
       "      <td>...</td>\n",
       "      <td>...</td>\n",
       "      <td>...</td>\n",
       "      <td>...</td>\n",
       "      <td>...</td>\n",
       "    </tr>\n",
       "    <tr>\n",
       "      <th>1378</th>\n",
       "      <td>نجّار</td>\n",
       "      <td>['   أخذ المقاسات من الموقع أو من المخططات وال...</td>\n",
       "      <td>مؤسسة مكعبات الإستثمار للمقاولات</td>\n",
       "      <td>خاص</td>\n",
       "      <td>صغيرة فئة ب</td>\n",
       "      <td>NaN</td>\n",
       "      <td>مكة المكرمة</td>\n",
       "      <td>MAKKAH AL...</td>\n",
       "      <td>['Salary', '4000.0']</td>\n",
       "      <td>دوام كامل</td>\n",
       "      <td>0 / 2</td>\n",
       "      <td>2 Years</td>\n",
       "      <td>both</td>\n",
       "    </tr>\n",
       "    <tr>\n",
       "      <th>1379</th>\n",
       "      <td>فني إنشاءات</td>\n",
       "      <td>['   مساعدة مهنس الأبنية في إعداد خطة وبرنامج ...</td>\n",
       "      <td>شركة الخدمات الاستشارية السعودية للاستشارات ال...</td>\n",
       "      <td>خاص</td>\n",
       "      <td>كبيرة</td>\n",
       "      <td>NaN</td>\n",
       "      <td>الرياض</td>\n",
       "      <td>AR RIYADH...</td>\n",
       "      <td>['Salary', '5000.0', 'Benefits', 'تأمين طبي', ...</td>\n",
       "      <td>دوام كامل</td>\n",
       "      <td>0 / 9</td>\n",
       "      <td>4 Years</td>\n",
       "      <td>M</td>\n",
       "    </tr>\n",
       "    <tr>\n",
       "      <th>1383</th>\n",
       "      <td>مدير مقهى</td>\n",
       "      <td>['   إدارة عملية تخطيط وتقديم الأطعمة والمشروب...</td>\n",
       "      <td>مؤسسة اسياف لتقديم المشروبات</td>\n",
       "      <td>خاص</td>\n",
       "      <td>صغيرة فئة أ</td>\n",
       "      <td>['Skill data', 'الرسم على القهوة', 'محترف', 'L...</td>\n",
       "      <td>مكة المكرمة</td>\n",
       "      <td>AL HALQAH...</td>\n",
       "      <td>['Salary', '4000.0']</td>\n",
       "      <td>دوام كامل</td>\n",
       "      <td>0 / 1</td>\n",
       "      <td>2 Years</td>\n",
       "      <td>both</td>\n",
       "    </tr>\n",
       "    <tr>\n",
       "      <th>1467</th>\n",
       "      <td>صيدلي</td>\n",
       "      <td>['   دراسة مواصفات وتركيبات الادوية والعقاقير ...</td>\n",
       "      <td>شركة تقنية الدواجن والألبان للتجارة</td>\n",
       "      <td>خاص</td>\n",
       "      <td>صغيرة فئة ب</td>\n",
       "      <td>['Professional certificate \\\\ License data', '...</td>\n",
       "      <td>الرياض</td>\n",
       "      <td>AR RIYADH...</td>\n",
       "      <td>['Salary', '7000.0']</td>\n",
       "      <td>دوام كامل</td>\n",
       "      <td>0 / 1</td>\n",
       "      <td>0 Years</td>\n",
       "      <td>both</td>\n",
       "    </tr>\n",
       "    <tr>\n",
       "      <th>1469</th>\n",
       "      <td>صيدلي</td>\n",
       "      <td>['   دراسة مواصفات وتركيبات الادوية والعقاقير ...</td>\n",
       "      <td>شركة تقنية الدواجن والألبان للتجارة</td>\n",
       "      <td>خاص</td>\n",
       "      <td>صغيرة فئة ب</td>\n",
       "      <td>['Professional certificate \\\\ License data', '...</td>\n",
       "      <td>الرياض</td>\n",
       "      <td>AR RIYADH...</td>\n",
       "      <td>['Salary', '7000.0']</td>\n",
       "      <td>دوام كامل</td>\n",
       "      <td>0 / 1</td>\n",
       "      <td>0 Years</td>\n",
       "      <td>both</td>\n",
       "    </tr>\n",
       "  </tbody>\n",
       "</table>\n",
       "<p>69 rows × 13 columns</p>\n",
       "</div>"
      ],
      "text/plain": [
       "               job_title                                          job_tasks  \\\n",
       "137   محلل نظم المعلومات  ['   جمع متطلبات العميل واحتياجاته، وإجراء الم...   \n",
       "237     محضر أطعمة باردة  ['   تحديد الأدوات والمواد والمستلزمات المطلوب...   \n",
       "281           سائق سيارة  ['نقل الحالات إلى كافة المواعيد مستشفى , نيابة...   \n",
       "289                محاسب  ['   تدقيق المطالبات المالية والتأكد من اكتمال...   \n",
       "355                 بائع  ['   بيع مجموعة من السلع والخدمات للعملاء.', '...   \n",
       "...                  ...                                                ...   \n",
       "1378               نجّار  ['   أخذ المقاسات من الموقع أو من المخططات وال...   \n",
       "1379         فني إنشاءات  ['   مساعدة مهنس الأبنية في إعداد خطة وبرنامج ...   \n",
       "1383           مدير مقهى  ['   إدارة عملية تخطيط وتقديم الأطعمة والمشروب...   \n",
       "1467               صيدلي  ['   دراسة مواصفات وتركيبات الادوية والعقاقير ...   \n",
       "1469               صيدلي  ['   دراسة مواصفات وتركيبات الادوية والعقاقير ...   \n",
       "\n",
       "                                              comp_name comp_type  \\\n",
       "137           شقق لجين الغربية للوحدات السكنية المفروشة       خاص   \n",
       "237               بوفية محمدحسن احمد جبر لتقديم الوجبات       خاص   \n",
       "281                          جمعية حماية الاسرة الخيرية       خاص   \n",
       "289                        مؤسسة الأندلس للشقق الفندقية       خاص   \n",
       "355                        مؤسسة تصميم الخزامى التجارية       خاص   \n",
       "...                                                 ...       ...   \n",
       "1378                   مؤسسة مكعبات الإستثمار للمقاولات       خاص   \n",
       "1379  شركة الخدمات الاستشارية السعودية للاستشارات ال...       خاص   \n",
       "1383                       مؤسسة اسياف لتقديم المشروبات       خاص   \n",
       "1467                شركة تقنية الدواجن والألبان للتجارة       خاص   \n",
       "1469                شركة تقنية الدواجن والألبان للتجارة       خاص   \n",
       "\n",
       "        comp_size                                             qualif  \\\n",
       "137   صغيرة فئة ب  ['Skill data', 'برامج المايكروسوفت اوفيس', 'مح...   \n",
       "237   صغيرة فئة ب  ['Professional certificate \\\\ License data', '...   \n",
       "281   صغيرة فئة ب                                                NaN   \n",
       "289   صغيرة فئة ب           ['Language data', 'الإنجليزية', 'متوسط']   \n",
       "355   صغيرة فئة ب                                                NaN   \n",
       "...           ...                                                ...   \n",
       "1378  صغيرة فئة ب                                                NaN   \n",
       "1379        كبيرة                                                NaN   \n",
       "1383  صغيرة فئة أ  ['Skill data', 'الرسم على القهوة', 'محترف', 'L...   \n",
       "1467  صغيرة فئة ب  ['Professional certificate \\\\ License data', '...   \n",
       "1469  صغيرة فئة ب  ['Professional certificate \\\\ License data', '...   \n",
       "\n",
       "           region          city  \\\n",
       "137   مكة المكرمة     JEDDAH...   \n",
       "237   مكة المكرمة  MAKKAH AL...   \n",
       "281        الرياض  AR RIYADH...   \n",
       "289   مكة المكرمة     JEDDAH...   \n",
       "355        الرياض  HAWTAT BA...   \n",
       "...           ...           ...   \n",
       "1378  مكة المكرمة  MAKKAH AL...   \n",
       "1379       الرياض  AR RIYADH...   \n",
       "1383  مكة المكرمة  AL HALQAH...   \n",
       "1467       الرياض  AR RIYADH...   \n",
       "1469       الرياض  AR RIYADH...   \n",
       "\n",
       "                                               benefits   contract positions  \\\n",
       "137                                ['Salary', '4000.0']  دوام كامل     0 / 1   \n",
       "237                                ['Salary', '4000.0']  دوام كامل     0 / 1   \n",
       "281                                ['Salary', '4500.0']  دوام كامل     0 / 1   \n",
       "289                                ['Salary', '6000.0']  دوام كامل     0 / 1   \n",
       "355                                ['Salary', '4000.0']  دوام كامل     0 / 1   \n",
       "...                                                 ...        ...       ...   \n",
       "1378                               ['Salary', '4000.0']  دوام كامل     0 / 2   \n",
       "1379  ['Salary', '5000.0', 'Benefits', 'تأمين طبي', ...  دوام كامل     0 / 9   \n",
       "1383                               ['Salary', '4000.0']  دوام كامل     0 / 1   \n",
       "1467                               ['Salary', '7000.0']  دوام كامل     0 / 1   \n",
       "1469                               ['Salary', '7000.0']  دوام كامل     0 / 1   \n",
       "\n",
       "        exper gender  \n",
       "137   2 Years   both  \n",
       "237   0 Years      M  \n",
       "281   2 Years   both  \n",
       "289   2 Years   both  \n",
       "355   0 Years      M  \n",
       "...       ...    ...  \n",
       "1378  2 Years   both  \n",
       "1379  4 Years      M  \n",
       "1383  2 Years   both  \n",
       "1467  0 Years   both  \n",
       "1469  0 Years   both  \n",
       "\n",
       "[69 rows x 13 columns]"
      ]
     },
     "execution_count": 7,
     "metadata": {},
     "output_type": "execute_result"
    }
   ],
   "source": [
    "df[df.duplicated()]"
   ]
  },
  {
   "cell_type": "code",
   "execution_count": null,
   "id": "6d2741d8",
   "metadata": {},
   "outputs": [],
   "source": []
  },
  {
   "cell_type": "code",
   "execution_count": 66,
   "id": "04c62559-3b48-48cf-a4e9-857e2e0ff416",
   "metadata": {},
   "outputs": [],
   "source": [
    "# go to delete duplicates columns"
   ]
  },
  {
   "cell_type": "markdown",
   "id": "c7724ac2-4ea2-4cf4-a9e0-e64368f87b92",
   "metadata": {},
   "source": [
    "#### 6. Completeness: \n",
    "Ensure that no critical data is missing. This might mean checking for null values or required fields that are empty.\n",
    "\n",
    "We will start by checking the dataset for missing or null values. For this, we can use the isna() method which returns a dataframe of boolean values indicating if a field is null or not. To group all missing values by column, we can include the sum() method."
   ]
  },
  {
   "cell_type": "code",
   "execution_count": 1,
   "id": "48a4de54-a344-4b94-9908-9528c15c13f7",
   "metadata": {},
   "outputs": [],
   "source": [
    "#Display number missing values per column"
   ]
  },
  {
   "cell_type": "code",
   "execution_count": 8,
   "id": "8a02f3a7",
   "metadata": {},
   "outputs": [
    {
     "data": {
      "text/plain": [
       "job_title      0\n",
       "job_tasks      0\n",
       "comp_name      0\n",
       "comp_type      0\n",
       "comp_size     14\n",
       "qualif       690\n",
       "region         0\n",
       "city           0\n",
       "benefits       0\n",
       "contract       0\n",
       "positions      0\n",
       "exper          0\n",
       "gender         0\n",
       "dtype: int64"
      ]
     },
     "execution_count": 8,
     "metadata": {},
     "output_type": "execute_result"
    }
   ],
   "source": [
    "df.isna().sum()"
   ]
  },
  {
   "cell_type": "code",
   "execution_count": 68,
   "id": "abec31c4-0904-4b73-8cee-b7bc14ab1e67",
   "metadata": {},
   "outputs": [],
   "source": [
    "# go to clean them "
   ]
  },
  {
   "cell_type": "markdown",
   "id": "b40de63c-5a1d-49ed-a87e-c5229ee08bbe",
   "metadata": {},
   "source": [
    "#### 7. Check Accuracy:\n",
    "\n",
    "Verify that the data is correct and precise. This could involve comparing data samples with known sources or using validation rules.\n",
    "\n",
    "**The process includes:**\n",
    "1. Validating the appropriateness of data types for the dataset.\n",
    "2. Identifying outliers  using established validation  rule"
   ]
  },
  {
   "cell_type": "code",
   "execution_count": 10,
   "id": "68be5334-ae10-4abd-8097-3259fe5e72c8",
   "metadata": {},
   "outputs": [
    {
     "data": {
      "text/plain": [
       "job_title    object\n",
       "job_tasks    object\n",
       "comp_name    object\n",
       "comp_type    object\n",
       "comp_size    object\n",
       "qualif       object\n",
       "region       object\n",
       "city         object\n",
       "benefits     object\n",
       "contract     object\n",
       "positions    object\n",
       "exper        object\n",
       "gender       object\n",
       "dtype: object"
      ]
     },
     "execution_count": 10,
     "metadata": {},
     "output_type": "execute_result"
    }
   ],
   "source": [
    "# check columns types \n",
    "df.dtypes"
   ]
  },
  {
   "cell_type": "code",
   "execution_count": 33,
   "id": "2ee790ba-dcc0-45f1-b6f8-0133e913e149",
   "metadata": {},
   "outputs": [],
   "source": [
    "# go to clean them "
   ]
  },
  {
   "cell_type": "code",
   "execution_count": 3,
   "id": "c69b303a-5459-45f9-a28e-fcee45c21c05",
   "metadata": {},
   "outputs": [],
   "source": [
    "# check outliers "
   ]
  },
  {
   "attachments": {},
   "cell_type": "markdown",
   "id": "4e886ec7-388c-414b-ada7-803c2fb1f2cb",
   "metadata": {},
   "source": [
    "## 2. Data Cleaning: \n",
    "\n",
    "Preliminary findings from data profiling can lead to cleaning the data by:\n",
    "- Handling missing values\n",
    "- Correcting errors.\n",
    "- Dealing with outliers.\n",
    "\n",
    "-------------------\n",
    "\n"
   ]
  },
  {
   "cell_type": "markdown",
   "id": "f7cee10f-0af8-44e5-b595-8e965294daad",
   "metadata": {},
   "source": [
    "### Correcting errors\n",
    "\n",
    "-------------------"
   ]
  },
  {
   "cell_type": "code",
   "execution_count": 29,
   "id": "67e8f6f3",
   "metadata": {},
   "outputs": [],
   "source": [
    "df.drop_duplicates(inplace=True)"
   ]
  },
  {
   "cell_type": "code",
   "execution_count": 13,
   "id": "06273b88-a169-42e8-81f5-5d71cb3f9c21",
   "metadata": {},
   "outputs": [],
   "source": [
    "df['available_positions'] = df['positions'].map(lambda x: x.split('/')[1])\n",
    "# change type to int and rename it to available_positions\n",
    "df['available_positions'] = df['available_positions'].astype(int)"
   ]
  },
  {
   "cell_type": "code",
   "execution_count": 16,
   "id": "b25bc060",
   "metadata": {},
   "outputs": [],
   "source": [
    "df.drop(columns=[\"positions\"],inplace=True)"
   ]
  },
  {
   "cell_type": "code",
   "execution_count": 17,
   "id": "8277634a",
   "metadata": {},
   "outputs": [
    {
     "data": {
      "text/html": [
       "<div>\n",
       "<style scoped>\n",
       "    .dataframe tbody tr th:only-of-type {\n",
       "        vertical-align: middle;\n",
       "    }\n",
       "\n",
       "    .dataframe tbody tr th {\n",
       "        vertical-align: top;\n",
       "    }\n",
       "\n",
       "    .dataframe thead th {\n",
       "        text-align: right;\n",
       "    }\n",
       "</style>\n",
       "<table border=\"1\" class=\"dataframe\">\n",
       "  <thead>\n",
       "    <tr style=\"text-align: right;\">\n",
       "      <th></th>\n",
       "      <th>job_title</th>\n",
       "      <th>job_tasks</th>\n",
       "      <th>comp_name</th>\n",
       "      <th>comp_type</th>\n",
       "      <th>comp_size</th>\n",
       "      <th>qualif</th>\n",
       "      <th>region</th>\n",
       "      <th>city</th>\n",
       "      <th>benefits</th>\n",
       "      <th>contract</th>\n",
       "      <th>exper</th>\n",
       "      <th>gender</th>\n",
       "      <th>available_positions</th>\n",
       "    </tr>\n",
       "  </thead>\n",
       "  <tbody>\n",
       "    <tr>\n",
       "      <th>0</th>\n",
       "      <td>محاسب</td>\n",
       "      <td>['   تدقيق المطالبات المالية والتأكد من اكتمال...</td>\n",
       "      <td>شركة مقر العالم للسفريات</td>\n",
       "      <td>خاص</td>\n",
       "      <td>متوسطة فئة أ</td>\n",
       "      <td>['Language data', 'اللغة الانجليزية', 'محترف']</td>\n",
       "      <td>الرياض</td>\n",
       "      <td>AR RIYADH...</td>\n",
       "      <td>['Salary', '5000.0']</td>\n",
       "      <td>دوام كامل</td>\n",
       "      <td>0 Years</td>\n",
       "      <td>both</td>\n",
       "      <td>1</td>\n",
       "    </tr>\n",
       "    <tr>\n",
       "      <th>1</th>\n",
       "      <td>بائع</td>\n",
       "      <td>['   بيع مجموعة من السلع والخدمات للعملاء.', '...</td>\n",
       "      <td>شركة عالم الكهرباء للمقاولات</td>\n",
       "      <td>خاص</td>\n",
       "      <td>متوسطة فئة ب</td>\n",
       "      <td>NaN</td>\n",
       "      <td>المنطقة الشرقية</td>\n",
       "      <td>AD DAMMAM...</td>\n",
       "      <td>['Salary', '5000.0']</td>\n",
       "      <td>دوام كامل</td>\n",
       "      <td>0 Years</td>\n",
       "      <td>both</td>\n",
       "      <td>3</td>\n",
       "    </tr>\n",
       "    <tr>\n",
       "      <th>2</th>\n",
       "      <td>أخصائي عمليات موارد بشرية</td>\n",
       "      <td>['   تنفيذ الإجراءات والأنظمة والنماذج الخاصة ...</td>\n",
       "      <td>شركه دار السلام</td>\n",
       "      <td>خاص</td>\n",
       "      <td>متوسطة فئة أ</td>\n",
       "      <td>['Language data', 'الانجليزيه', 'محترف']</td>\n",
       "      <td>الرياض</td>\n",
       "      <td>ATH THUMA...</td>\n",
       "      <td>['Salary', '4000.0']</td>\n",
       "      <td>دوام كامل</td>\n",
       "      <td>2 Years</td>\n",
       "      <td>both</td>\n",
       "      <td>2</td>\n",
       "    </tr>\n",
       "    <tr>\n",
       "      <th>3</th>\n",
       "      <td>ميكانيكي سيارات</td>\n",
       "      <td>['   فحص أداء المعدّات الكهربائية والميكانيكية...</td>\n",
       "      <td>مؤسسة لمكو لغيار الزيوت</td>\n",
       "      <td>خاص</td>\n",
       "      <td>صغيرة فئة ب</td>\n",
       "      <td>['Skill data', 'صيانة السيارات وتقييم الاعطال'...</td>\n",
       "      <td>المنطقة الشرقية</td>\n",
       "      <td>AL HUFUF...</td>\n",
       "      <td>['Salary', '5000.0']</td>\n",
       "      <td>دوام كامل</td>\n",
       "      <td>0 Years</td>\n",
       "      <td>M</td>\n",
       "      <td>10</td>\n",
       "    </tr>\n",
       "    <tr>\n",
       "      <th>4</th>\n",
       "      <td>محاسب</td>\n",
       "      <td>['   تدقيق المطالبات المالية والتأكد من اكتمال...</td>\n",
       "      <td>مؤسسة فكرة اليمامة للمقاولات</td>\n",
       "      <td>خاص</td>\n",
       "      <td>كبيرة</td>\n",
       "      <td>['Skill data', 'تحمل ضغط العمل', 'محترف', 'Lan...</td>\n",
       "      <td>الرياض</td>\n",
       "      <td>AR RIYADH...</td>\n",
       "      <td>['Salary', '5000.0']</td>\n",
       "      <td>دوام كامل</td>\n",
       "      <td>0 Years</td>\n",
       "      <td>both</td>\n",
       "      <td>1</td>\n",
       "    </tr>\n",
       "  </tbody>\n",
       "</table>\n",
       "</div>"
      ],
      "text/plain": [
       "                   job_title  \\\n",
       "0                      محاسب   \n",
       "1                       بائع   \n",
       "2  أخصائي عمليات موارد بشرية   \n",
       "3            ميكانيكي سيارات   \n",
       "4                      محاسب   \n",
       "\n",
       "                                           job_tasks  \\\n",
       "0  ['   تدقيق المطالبات المالية والتأكد من اكتمال...   \n",
       "1  ['   بيع مجموعة من السلع والخدمات للعملاء.', '...   \n",
       "2  ['   تنفيذ الإجراءات والأنظمة والنماذج الخاصة ...   \n",
       "3  ['   فحص أداء المعدّات الكهربائية والميكانيكية...   \n",
       "4  ['   تدقيق المطالبات المالية والتأكد من اكتمال...   \n",
       "\n",
       "                      comp_name comp_type     comp_size  \\\n",
       "0      شركة مقر العالم للسفريات       خاص  متوسطة فئة أ   \n",
       "1  شركة عالم الكهرباء للمقاولات       خاص  متوسطة فئة ب   \n",
       "2               شركه دار السلام       خاص  متوسطة فئة أ   \n",
       "3       مؤسسة لمكو لغيار الزيوت       خاص   صغيرة فئة ب   \n",
       "4  مؤسسة فكرة اليمامة للمقاولات       خاص         كبيرة   \n",
       "\n",
       "                                              qualif           region  \\\n",
       "0     ['Language data', 'اللغة الانجليزية', 'محترف']           الرياض   \n",
       "1                                                NaN  المنطقة الشرقية   \n",
       "2           ['Language data', 'الانجليزيه', 'محترف']           الرياض   \n",
       "3  ['Skill data', 'صيانة السيارات وتقييم الاعطال'...  المنطقة الشرقية   \n",
       "4  ['Skill data', 'تحمل ضغط العمل', 'محترف', 'Lan...           الرياض   \n",
       "\n",
       "           city              benefits   contract    exper gender  \\\n",
       "0  AR RIYADH...  ['Salary', '5000.0']  دوام كامل  0 Years   both   \n",
       "1  AD DAMMAM...  ['Salary', '5000.0']  دوام كامل  0 Years   both   \n",
       "2  ATH THUMA...  ['Salary', '4000.0']  دوام كامل  2 Years   both   \n",
       "3   AL HUFUF...  ['Salary', '5000.0']  دوام كامل  0 Years      M   \n",
       "4  AR RIYADH...  ['Salary', '5000.0']  دوام كامل  0 Years   both   \n",
       "\n",
       "   available_positions  \n",
       "0                    1  \n",
       "1                    3  \n",
       "2                    2  \n",
       "3                   10  \n",
       "4                    1  "
      ]
     },
     "execution_count": 17,
     "metadata": {},
     "output_type": "execute_result"
    }
   ],
   "source": [
    "df.head()"
   ]
  },
  {
   "cell_type": "code",
   "execution_count": 18,
   "id": "0a747bf7",
   "metadata": {},
   "outputs": [],
   "source": [
    "df['exper'] =df['exper'].map(lambda x: x.split('Y')[0])\n",
    "# change type to int\n",
    "df['exper'] = df['exper'].astype(int)"
   ]
  },
  {
   "cell_type": "code",
   "execution_count": 19,
   "id": "b0299b81",
   "metadata": {},
   "outputs": [
    {
     "data": {
      "text/html": [
       "<div>\n",
       "<style scoped>\n",
       "    .dataframe tbody tr th:only-of-type {\n",
       "        vertical-align: middle;\n",
       "    }\n",
       "\n",
       "    .dataframe tbody tr th {\n",
       "        vertical-align: top;\n",
       "    }\n",
       "\n",
       "    .dataframe thead th {\n",
       "        text-align: right;\n",
       "    }\n",
       "</style>\n",
       "<table border=\"1\" class=\"dataframe\">\n",
       "  <thead>\n",
       "    <tr style=\"text-align: right;\">\n",
       "      <th></th>\n",
       "      <th>job_title</th>\n",
       "      <th>job_tasks</th>\n",
       "      <th>comp_name</th>\n",
       "      <th>comp_type</th>\n",
       "      <th>comp_size</th>\n",
       "      <th>qualif</th>\n",
       "      <th>region</th>\n",
       "      <th>city</th>\n",
       "      <th>benefits</th>\n",
       "      <th>contract</th>\n",
       "      <th>exper</th>\n",
       "      <th>gender</th>\n",
       "      <th>available_positions</th>\n",
       "    </tr>\n",
       "  </thead>\n",
       "  <tbody>\n",
       "    <tr>\n",
       "      <th>0</th>\n",
       "      <td>محاسب</td>\n",
       "      <td>['   تدقيق المطالبات المالية والتأكد من اكتمال...</td>\n",
       "      <td>شركة مقر العالم للسفريات</td>\n",
       "      <td>خاص</td>\n",
       "      <td>متوسطة فئة أ</td>\n",
       "      <td>['Language data', 'اللغة الانجليزية', 'محترف']</td>\n",
       "      <td>الرياض</td>\n",
       "      <td>AR RIYADH...</td>\n",
       "      <td>['Salary', '5000.0']</td>\n",
       "      <td>دوام كامل</td>\n",
       "      <td>0</td>\n",
       "      <td>both</td>\n",
       "      <td>1</td>\n",
       "    </tr>\n",
       "    <tr>\n",
       "      <th>1</th>\n",
       "      <td>بائع</td>\n",
       "      <td>['   بيع مجموعة من السلع والخدمات للعملاء.', '...</td>\n",
       "      <td>شركة عالم الكهرباء للمقاولات</td>\n",
       "      <td>خاص</td>\n",
       "      <td>متوسطة فئة ب</td>\n",
       "      <td>NaN</td>\n",
       "      <td>المنطقة الشرقية</td>\n",
       "      <td>AD DAMMAM...</td>\n",
       "      <td>['Salary', '5000.0']</td>\n",
       "      <td>دوام كامل</td>\n",
       "      <td>0</td>\n",
       "      <td>both</td>\n",
       "      <td>3</td>\n",
       "    </tr>\n",
       "    <tr>\n",
       "      <th>2</th>\n",
       "      <td>أخصائي عمليات موارد بشرية</td>\n",
       "      <td>['   تنفيذ الإجراءات والأنظمة والنماذج الخاصة ...</td>\n",
       "      <td>شركه دار السلام</td>\n",
       "      <td>خاص</td>\n",
       "      <td>متوسطة فئة أ</td>\n",
       "      <td>['Language data', 'الانجليزيه', 'محترف']</td>\n",
       "      <td>الرياض</td>\n",
       "      <td>ATH THUMA...</td>\n",
       "      <td>['Salary', '4000.0']</td>\n",
       "      <td>دوام كامل</td>\n",
       "      <td>2</td>\n",
       "      <td>both</td>\n",
       "      <td>2</td>\n",
       "    </tr>\n",
       "    <tr>\n",
       "      <th>3</th>\n",
       "      <td>ميكانيكي سيارات</td>\n",
       "      <td>['   فحص أداء المعدّات الكهربائية والميكانيكية...</td>\n",
       "      <td>مؤسسة لمكو لغيار الزيوت</td>\n",
       "      <td>خاص</td>\n",
       "      <td>صغيرة فئة ب</td>\n",
       "      <td>['Skill data', 'صيانة السيارات وتقييم الاعطال'...</td>\n",
       "      <td>المنطقة الشرقية</td>\n",
       "      <td>AL HUFUF...</td>\n",
       "      <td>['Salary', '5000.0']</td>\n",
       "      <td>دوام كامل</td>\n",
       "      <td>0</td>\n",
       "      <td>M</td>\n",
       "      <td>10</td>\n",
       "    </tr>\n",
       "    <tr>\n",
       "      <th>4</th>\n",
       "      <td>محاسب</td>\n",
       "      <td>['   تدقيق المطالبات المالية والتأكد من اكتمال...</td>\n",
       "      <td>مؤسسة فكرة اليمامة للمقاولات</td>\n",
       "      <td>خاص</td>\n",
       "      <td>كبيرة</td>\n",
       "      <td>['Skill data', 'تحمل ضغط العمل', 'محترف', 'Lan...</td>\n",
       "      <td>الرياض</td>\n",
       "      <td>AR RIYADH...</td>\n",
       "      <td>['Salary', '5000.0']</td>\n",
       "      <td>دوام كامل</td>\n",
       "      <td>0</td>\n",
       "      <td>both</td>\n",
       "      <td>1</td>\n",
       "    </tr>\n",
       "  </tbody>\n",
       "</table>\n",
       "</div>"
      ],
      "text/plain": [
       "                   job_title  \\\n",
       "0                      محاسب   \n",
       "1                       بائع   \n",
       "2  أخصائي عمليات موارد بشرية   \n",
       "3            ميكانيكي سيارات   \n",
       "4                      محاسب   \n",
       "\n",
       "                                           job_tasks  \\\n",
       "0  ['   تدقيق المطالبات المالية والتأكد من اكتمال...   \n",
       "1  ['   بيع مجموعة من السلع والخدمات للعملاء.', '...   \n",
       "2  ['   تنفيذ الإجراءات والأنظمة والنماذج الخاصة ...   \n",
       "3  ['   فحص أداء المعدّات الكهربائية والميكانيكية...   \n",
       "4  ['   تدقيق المطالبات المالية والتأكد من اكتمال...   \n",
       "\n",
       "                      comp_name comp_type     comp_size  \\\n",
       "0      شركة مقر العالم للسفريات       خاص  متوسطة فئة أ   \n",
       "1  شركة عالم الكهرباء للمقاولات       خاص  متوسطة فئة ب   \n",
       "2               شركه دار السلام       خاص  متوسطة فئة أ   \n",
       "3       مؤسسة لمكو لغيار الزيوت       خاص   صغيرة فئة ب   \n",
       "4  مؤسسة فكرة اليمامة للمقاولات       خاص         كبيرة   \n",
       "\n",
       "                                              qualif           region  \\\n",
       "0     ['Language data', 'اللغة الانجليزية', 'محترف']           الرياض   \n",
       "1                                                NaN  المنطقة الشرقية   \n",
       "2           ['Language data', 'الانجليزيه', 'محترف']           الرياض   \n",
       "3  ['Skill data', 'صيانة السيارات وتقييم الاعطال'...  المنطقة الشرقية   \n",
       "4  ['Skill data', 'تحمل ضغط العمل', 'محترف', 'Lan...           الرياض   \n",
       "\n",
       "           city              benefits   contract  exper gender  \\\n",
       "0  AR RIYADH...  ['Salary', '5000.0']  دوام كامل      0   both   \n",
       "1  AD DAMMAM...  ['Salary', '5000.0']  دوام كامل      0   both   \n",
       "2  ATH THUMA...  ['Salary', '4000.0']  دوام كامل      2   both   \n",
       "3   AL HUFUF...  ['Salary', '5000.0']  دوام كامل      0      M   \n",
       "4  AR RIYADH...  ['Salary', '5000.0']  دوام كامل      0   both   \n",
       "\n",
       "   available_positions  \n",
       "0                    1  \n",
       "1                    3  \n",
       "2                    2  \n",
       "3                   10  \n",
       "4                    1  "
      ]
     },
     "execution_count": 19,
     "metadata": {},
     "output_type": "execute_result"
    }
   ],
   "source": [
    "df.head()"
   ]
  },
  {
   "cell_type": "code",
   "execution_count": 24,
   "id": "d1861e88",
   "metadata": {},
   "outputs": [],
   "source": [
    "salary = df['benefits'].map(lambda x: x.split(',')[1].split(']')[0].split('\\'')[1])\n",
    "# change salary type to int\n",
    "df['salary (SAR)'] = salary.astype(float)"
   ]
  },
  {
   "cell_type": "code",
   "execution_count": 27,
   "id": "962199f0",
   "metadata": {},
   "outputs": [
    {
     "data": {
      "text/html": [
       "<div>\n",
       "<style scoped>\n",
       "    .dataframe tbody tr th:only-of-type {\n",
       "        vertical-align: middle;\n",
       "    }\n",
       "\n",
       "    .dataframe tbody tr th {\n",
       "        vertical-align: top;\n",
       "    }\n",
       "\n",
       "    .dataframe thead th {\n",
       "        text-align: right;\n",
       "    }\n",
       "</style>\n",
       "<table border=\"1\" class=\"dataframe\">\n",
       "  <thead>\n",
       "    <tr style=\"text-align: right;\">\n",
       "      <th></th>\n",
       "      <th>job_title</th>\n",
       "      <th>job_tasks</th>\n",
       "      <th>comp_name</th>\n",
       "      <th>comp_type</th>\n",
       "      <th>comp_size</th>\n",
       "      <th>qualif</th>\n",
       "      <th>region</th>\n",
       "      <th>city</th>\n",
       "      <th>benefits</th>\n",
       "      <th>contract</th>\n",
       "      <th>exper</th>\n",
       "      <th>gender</th>\n",
       "      <th>available_positions</th>\n",
       "      <th>salary (SAR)</th>\n",
       "    </tr>\n",
       "  </thead>\n",
       "  <tbody>\n",
       "    <tr>\n",
       "      <th>0</th>\n",
       "      <td>محاسب</td>\n",
       "      <td>['   تدقيق المطالبات المالية والتأكد من اكتمال...</td>\n",
       "      <td>شركة مقر العالم للسفريات</td>\n",
       "      <td>خاص</td>\n",
       "      <td>متوسطة فئة أ</td>\n",
       "      <td>['Language data', 'اللغة الانجليزية', 'محترف']</td>\n",
       "      <td>الرياض</td>\n",
       "      <td>AR RIYADH...</td>\n",
       "      <td>['Salary', '5000.0']</td>\n",
       "      <td>دوام كامل</td>\n",
       "      <td>0</td>\n",
       "      <td>both</td>\n",
       "      <td>1</td>\n",
       "      <td>5000.0</td>\n",
       "    </tr>\n",
       "    <tr>\n",
       "      <th>1</th>\n",
       "      <td>بائع</td>\n",
       "      <td>['   بيع مجموعة من السلع والخدمات للعملاء.', '...</td>\n",
       "      <td>شركة عالم الكهرباء للمقاولات</td>\n",
       "      <td>خاص</td>\n",
       "      <td>متوسطة فئة ب</td>\n",
       "      <td>NaN</td>\n",
       "      <td>المنطقة الشرقية</td>\n",
       "      <td>AD DAMMAM...</td>\n",
       "      <td>['Salary', '5000.0']</td>\n",
       "      <td>دوام كامل</td>\n",
       "      <td>0</td>\n",
       "      <td>both</td>\n",
       "      <td>3</td>\n",
       "      <td>5000.0</td>\n",
       "    </tr>\n",
       "    <tr>\n",
       "      <th>2</th>\n",
       "      <td>أخصائي عمليات موارد بشرية</td>\n",
       "      <td>['   تنفيذ الإجراءات والأنظمة والنماذج الخاصة ...</td>\n",
       "      <td>شركه دار السلام</td>\n",
       "      <td>خاص</td>\n",
       "      <td>متوسطة فئة أ</td>\n",
       "      <td>['Language data', 'الانجليزيه', 'محترف']</td>\n",
       "      <td>الرياض</td>\n",
       "      <td>ATH THUMA...</td>\n",
       "      <td>['Salary', '4000.0']</td>\n",
       "      <td>دوام كامل</td>\n",
       "      <td>2</td>\n",
       "      <td>both</td>\n",
       "      <td>2</td>\n",
       "      <td>4000.0</td>\n",
       "    </tr>\n",
       "    <tr>\n",
       "      <th>3</th>\n",
       "      <td>ميكانيكي سيارات</td>\n",
       "      <td>['   فحص أداء المعدّات الكهربائية والميكانيكية...</td>\n",
       "      <td>مؤسسة لمكو لغيار الزيوت</td>\n",
       "      <td>خاص</td>\n",
       "      <td>صغيرة فئة ب</td>\n",
       "      <td>['Skill data', 'صيانة السيارات وتقييم الاعطال'...</td>\n",
       "      <td>المنطقة الشرقية</td>\n",
       "      <td>AL HUFUF...</td>\n",
       "      <td>['Salary', '5000.0']</td>\n",
       "      <td>دوام كامل</td>\n",
       "      <td>0</td>\n",
       "      <td>M</td>\n",
       "      <td>10</td>\n",
       "      <td>5000.0</td>\n",
       "    </tr>\n",
       "    <tr>\n",
       "      <th>4</th>\n",
       "      <td>محاسب</td>\n",
       "      <td>['   تدقيق المطالبات المالية والتأكد من اكتمال...</td>\n",
       "      <td>مؤسسة فكرة اليمامة للمقاولات</td>\n",
       "      <td>خاص</td>\n",
       "      <td>كبيرة</td>\n",
       "      <td>['Skill data', 'تحمل ضغط العمل', 'محترف', 'Lan...</td>\n",
       "      <td>الرياض</td>\n",
       "      <td>AR RIYADH...</td>\n",
       "      <td>['Salary', '5000.0']</td>\n",
       "      <td>دوام كامل</td>\n",
       "      <td>0</td>\n",
       "      <td>both</td>\n",
       "      <td>1</td>\n",
       "      <td>5000.0</td>\n",
       "    </tr>\n",
       "  </tbody>\n",
       "</table>\n",
       "</div>"
      ],
      "text/plain": [
       "                   job_title  \\\n",
       "0                      محاسب   \n",
       "1                       بائع   \n",
       "2  أخصائي عمليات موارد بشرية   \n",
       "3            ميكانيكي سيارات   \n",
       "4                      محاسب   \n",
       "\n",
       "                                           job_tasks  \\\n",
       "0  ['   تدقيق المطالبات المالية والتأكد من اكتمال...   \n",
       "1  ['   بيع مجموعة من السلع والخدمات للعملاء.', '...   \n",
       "2  ['   تنفيذ الإجراءات والأنظمة والنماذج الخاصة ...   \n",
       "3  ['   فحص أداء المعدّات الكهربائية والميكانيكية...   \n",
       "4  ['   تدقيق المطالبات المالية والتأكد من اكتمال...   \n",
       "\n",
       "                      comp_name comp_type     comp_size  \\\n",
       "0      شركة مقر العالم للسفريات       خاص  متوسطة فئة أ   \n",
       "1  شركة عالم الكهرباء للمقاولات       خاص  متوسطة فئة ب   \n",
       "2               شركه دار السلام       خاص  متوسطة فئة أ   \n",
       "3       مؤسسة لمكو لغيار الزيوت       خاص   صغيرة فئة ب   \n",
       "4  مؤسسة فكرة اليمامة للمقاولات       خاص         كبيرة   \n",
       "\n",
       "                                              qualif           region  \\\n",
       "0     ['Language data', 'اللغة الانجليزية', 'محترف']           الرياض   \n",
       "1                                                NaN  المنطقة الشرقية   \n",
       "2           ['Language data', 'الانجليزيه', 'محترف']           الرياض   \n",
       "3  ['Skill data', 'صيانة السيارات وتقييم الاعطال'...  المنطقة الشرقية   \n",
       "4  ['Skill data', 'تحمل ضغط العمل', 'محترف', 'Lan...           الرياض   \n",
       "\n",
       "           city              benefits   contract  exper gender  \\\n",
       "0  AR RIYADH...  ['Salary', '5000.0']  دوام كامل      0   both   \n",
       "1  AD DAMMAM...  ['Salary', '5000.0']  دوام كامل      0   both   \n",
       "2  ATH THUMA...  ['Salary', '4000.0']  دوام كامل      2   both   \n",
       "3   AL HUFUF...  ['Salary', '5000.0']  دوام كامل      0      M   \n",
       "4  AR RIYADH...  ['Salary', '5000.0']  دوام كامل      0   both   \n",
       "\n",
       "   available_positions  salary (SAR)  \n",
       "0                    1        5000.0  \n",
       "1                    3        5000.0  \n",
       "2                    2        4000.0  \n",
       "3                   10        5000.0  \n",
       "4                    1        5000.0  "
      ]
     },
     "execution_count": 27,
     "metadata": {},
     "output_type": "execute_result"
    }
   ],
   "source": [
    "df.head()"
   ]
  },
  {
   "cell_type": "code",
   "execution_count": null,
   "id": "f1d95da5-a3ba-473a-8243-aa177cadae20",
   "metadata": {},
   "outputs": [],
   "source": [
    "# go back to 7th dimension Accuracy "
   ]
  },
  {
   "cell_type": "markdown",
   "id": "5ecc7dbb-6867-44cf-8f99-1b969a80be40",
   "metadata": {},
   "source": [
    "### Dealing with outliers:"
   ]
  },
  {
   "attachments": {},
   "cell_type": "markdown",
   "id": "88347887-4bdf-48af-9486-cb8fe80c97af",
   "metadata": {},
   "source": [
    "**How to remove Outliers?**\n",
    "Most of the ways to deal with outliers are similar to the methods of missing values like deleting rows, transforming them, binning them, treat them as a separate group, imputing values and other statistical methods. Here, we will discuss the common techniques used to deal with outliers:\n",
    "\n",
    "1. Deleting rows: We delete outlier values if it is due to data entry error, data processing error or outlier rows are very small in numbers. We can also use trimming at both ends to remove outliers.\n",
    "\n",
    "2. Imputing: Like imputation of missing values, we can also impute outliers. We can use mean, median, mode imputation methods. Before imputing values, we should analyse if it is natural outlier or artificial. If it is artificial, we can go with imputing values. We can also use statistical model to predict values of outlier rows and after that we can impute it with predicted values.\n",
    "\n",
    "3. Treat separately: If there are significant number of outliers, we should treat them separately in the statistical model. One of the approach is to treat both groups as two different groups and build individual model for both groups and then combine the output.\n"
   ]
  },
  {
   "cell_type": "code",
   "execution_count": 30,
   "id": "25a585f0-2b9c-42fa-bf21-cacc6aa3be3f",
   "metadata": {},
   "outputs": [
    {
     "data": {
      "text/plain": [
       "count    1390.000000\n",
       "mean        1.278417\n",
       "std         1.880760\n",
       "min         0.000000\n",
       "25%         0.000000\n",
       "50%         0.000000\n",
       "75%         2.000000\n",
       "max        12.000000\n",
       "Name: exper, dtype: float64"
      ]
     },
     "execution_count": 30,
     "metadata": {},
     "output_type": "execute_result"
    }
   ],
   "source": [
    "df['exper'].describe()"
   ]
  },
  {
   "cell_type": "code",
   "execution_count": 31,
   "id": "44cf841b",
   "metadata": {},
   "outputs": [
    {
     "data": {
      "text/plain": [
       "count    1390.000000\n",
       "mean        2.941007\n",
       "std         6.320864\n",
       "min         1.000000\n",
       "25%         1.000000\n",
       "50%         1.000000\n",
       "75%         2.000000\n",
       "max        50.000000\n",
       "Name: available_positions, dtype: float64"
      ]
     },
     "execution_count": 31,
     "metadata": {},
     "output_type": "execute_result"
    }
   ],
   "source": [
    "df['available_positions'].describe()"
   ]
  },
  {
   "cell_type": "code",
   "execution_count": 32,
   "id": "2830f540",
   "metadata": {},
   "outputs": [
    {
     "data": {
      "text/plain": [
       "count     1390.000000\n",
       "mean      5279.319424\n",
       "std       2181.215857\n",
       "min       3000.000000\n",
       "25%       4000.000000\n",
       "50%       4500.000000\n",
       "75%       6000.000000\n",
       "max      35000.000000\n",
       "Name: salary (SAR), dtype: float64"
      ]
     },
     "execution_count": 32,
     "metadata": {},
     "output_type": "execute_result"
    }
   ],
   "source": [
    "df['salary (SAR)'].describe()"
   ]
  },
  {
   "cell_type": "code",
   "execution_count": 34,
   "id": "1bdd1401",
   "metadata": {},
   "outputs": [
    {
     "data": {
      "application/vnd.plotly.v1+json": {
       "config": {
        "plotlyServerURL": "https://plot.ly"
       },
       "data": [
        {
         "alignmentgroup": "True",
         "hovertemplate": "exper=%{y}<extra></extra>",
         "legendgroup": "",
         "marker": {
          "color": "#000001"
         },
         "name": "",
         "notched": false,
         "offsetgroup": "",
         "orientation": "v",
         "showlegend": false,
         "type": "box",
         "x0": " ",
         "xaxis": "x",
         "y": [
          0,
          0,
          2,
          0,
          0,
          0,
          4,
          4,
          2,
          4,
          0,
          0,
          0,
          2,
          4,
          2,
          4,
          10,
          2,
          0,
          0,
          2,
          2,
          2,
          0,
          0,
          0,
          2,
          4,
          0,
          2,
          0,
          4,
          4,
          4,
          4,
          0,
          0,
          0,
          2,
          2,
          0,
          2,
          2,
          0,
          0,
          0,
          0,
          2,
          0,
          2,
          0,
          0,
          0,
          0,
          0,
          0,
          2,
          0,
          0,
          0,
          0,
          0,
          2,
          0,
          0,
          2,
          0,
          0,
          0,
          0,
          0,
          0,
          0,
          0,
          0,
          0,
          0,
          0,
          0,
          0,
          4,
          7,
          0,
          0,
          0,
          2,
          0,
          0,
          2,
          2,
          2,
          2,
          0,
          0,
          0,
          2,
          0,
          0,
          2,
          0,
          0,
          0,
          0,
          2,
          0,
          0,
          2,
          2,
          7,
          0,
          0,
          0,
          0,
          0,
          0,
          0,
          0,
          0,
          0,
          0,
          0,
          0,
          0,
          2,
          4,
          2,
          0,
          0,
          0,
          2,
          2,
          0,
          0,
          2,
          2,
          2,
          0,
          2,
          0,
          0,
          0,
          0,
          0,
          0,
          0,
          0,
          2,
          0,
          0,
          2,
          0,
          2,
          0,
          2,
          0,
          2,
          2,
          0,
          0,
          2,
          7,
          4,
          4,
          7,
          7,
          0,
          0,
          7,
          4,
          2,
          2,
          7,
          2,
          4,
          0,
          4,
          0,
          0,
          0,
          2,
          2,
          4,
          2,
          2,
          0,
          0,
          0,
          0,
          0,
          2,
          2,
          0,
          0,
          0,
          0,
          0,
          2,
          0,
          2,
          4,
          2,
          2,
          0,
          2,
          0,
          2,
          0,
          0,
          2,
          2,
          0,
          2,
          0,
          2,
          4,
          2,
          2,
          2,
          0,
          4,
          0,
          0,
          0,
          2,
          0,
          0,
          12,
          2,
          4,
          2,
          2,
          2,
          2,
          0,
          0,
          0,
          0,
          4,
          2,
          0,
          0,
          0,
          12,
          0,
          0,
          0,
          0,
          0,
          0,
          0,
          2,
          0,
          0,
          2,
          0,
          2,
          2,
          0,
          4,
          0,
          0,
          2,
          0,
          0,
          0,
          0,
          0,
          0,
          0,
          0,
          0,
          4,
          2,
          2,
          0,
          4,
          0,
          0,
          0,
          0,
          2,
          2,
          2,
          0,
          0,
          4,
          4,
          2,
          2,
          0,
          4,
          2,
          2,
          2,
          0,
          2,
          0,
          0,
          0,
          0,
          0,
          0,
          0,
          4,
          0,
          0,
          0,
          2,
          2,
          2,
          0,
          0,
          0,
          0,
          0,
          0,
          0,
          0,
          0,
          2,
          2,
          2,
          0,
          2,
          0,
          0,
          0,
          2,
          0,
          2,
          2,
          2,
          0,
          0,
          0,
          0,
          0,
          2,
          0,
          4,
          4,
          0,
          0,
          0,
          0,
          0,
          2,
          0,
          0,
          2,
          0,
          0,
          0,
          0,
          0,
          2,
          0,
          0,
          0,
          0,
          2,
          0,
          2,
          2,
          0,
          0,
          0,
          0,
          2,
          4,
          2,
          4,
          4,
          0,
          2,
          0,
          0,
          0,
          0,
          2,
          0,
          0,
          4,
          0,
          0,
          0,
          0,
          0,
          0,
          2,
          2,
          0,
          2,
          2,
          2,
          2,
          0,
          0,
          0,
          2,
          2,
          0,
          4,
          4,
          2,
          0,
          4,
          2,
          2,
          0,
          0,
          0,
          2,
          0,
          7,
          4,
          0,
          0,
          2,
          2,
          7,
          10,
          0,
          2,
          2,
          0,
          0,
          0,
          0,
          0,
          0,
          2,
          0,
          0,
          10,
          2,
          0,
          2,
          2,
          2,
          2,
          0,
          4,
          4,
          4,
          4,
          0,
          2,
          4,
          2,
          12,
          0,
          2,
          0,
          0,
          0,
          0,
          0,
          0,
          0,
          2,
          2,
          4,
          2,
          0,
          2,
          0,
          0,
          0,
          2,
          0,
          0,
          2,
          2,
          2,
          2,
          0,
          4,
          2,
          4,
          0,
          0,
          0,
          4,
          0,
          0,
          2,
          0,
          0,
          0,
          0,
          0,
          0,
          2,
          0,
          0,
          2,
          10,
          0,
          0,
          0,
          2,
          4,
          2,
          0,
          0,
          0,
          2,
          0,
          0,
          4,
          4,
          0,
          2,
          0,
          4,
          0,
          0,
          2,
          0,
          0,
          7,
          0,
          2,
          0,
          0,
          2,
          0,
          2,
          0,
          0,
          0,
          0,
          0,
          0,
          0,
          0,
          0,
          0,
          0,
          0,
          0,
          0,
          2,
          2,
          2,
          2,
          2,
          2,
          10,
          4,
          0,
          0,
          0,
          0,
          0,
          0,
          0,
          0,
          0,
          0,
          0,
          0,
          4,
          4,
          4,
          7,
          4,
          7,
          10,
          4,
          4,
          4,
          0,
          0,
          0,
          2,
          4,
          0,
          0,
          2,
          2,
          2,
          2,
          0,
          2,
          2,
          2,
          0,
          2,
          0,
          0,
          0,
          0,
          0,
          0,
          0,
          0,
          0,
          0,
          0,
          4,
          4,
          2,
          4,
          0,
          4,
          0,
          0,
          4,
          0,
          0,
          0,
          4,
          4,
          0,
          4,
          7,
          0,
          0,
          2,
          2,
          0,
          2,
          2,
          2,
          4,
          0,
          0,
          0,
          0,
          0,
          2,
          0,
          0,
          0,
          0,
          4,
          0,
          0,
          0,
          0,
          0,
          0,
          2,
          0,
          0,
          2,
          4,
          0,
          2,
          2,
          0,
          0,
          0,
          0,
          2,
          4,
          2,
          0,
          0,
          4,
          0,
          0,
          0,
          0,
          0,
          0,
          2,
          0,
          0,
          0,
          0,
          0,
          0,
          0,
          0,
          0,
          0,
          0,
          0,
          0,
          0,
          2,
          0,
          0,
          0,
          0,
          0,
          0,
          2,
          2,
          2,
          0,
          0,
          0,
          2,
          2,
          2,
          2,
          0,
          0,
          2,
          2,
          2,
          4,
          0,
          0,
          0,
          0,
          0,
          0,
          0,
          4,
          2,
          2,
          0,
          0,
          2,
          0,
          0,
          0,
          0,
          2,
          2,
          0,
          0,
          0,
          0,
          0,
          2,
          0,
          0,
          2,
          0,
          0,
          10,
          0,
          0,
          2,
          0,
          2,
          0,
          0,
          0,
          0,
          0,
          0,
          0,
          2,
          0,
          2,
          4,
          0,
          0,
          0,
          2,
          2,
          0,
          0,
          2,
          0,
          2,
          2,
          2,
          0,
          2,
          0,
          0,
          0,
          0,
          0,
          0,
          2,
          0,
          0,
          2,
          2,
          4,
          2,
          4,
          4,
          2,
          0,
          4,
          0,
          4,
          2,
          0,
          0,
          0,
          4,
          0,
          0,
          0,
          0,
          2,
          2,
          0,
          0,
          2,
          2,
          0,
          0,
          2,
          2,
          0,
          2,
          0,
          2,
          2,
          2,
          0,
          2,
          2,
          0,
          0,
          2,
          4,
          4,
          0,
          0,
          2,
          2,
          4,
          2,
          0,
          0,
          10,
          0,
          0,
          4,
          2,
          0,
          2,
          0,
          0,
          2,
          2,
          0,
          0,
          4,
          7,
          0,
          0,
          0,
          4,
          0,
          0,
          0,
          0,
          0,
          0,
          4,
          0,
          0,
          0,
          0,
          0,
          0,
          2,
          0,
          0,
          2,
          0,
          0,
          0,
          0,
          2,
          2,
          4,
          2,
          10,
          2,
          0,
          0,
          0,
          0,
          2,
          0,
          4,
          4,
          4,
          0,
          4,
          7,
          0,
          0,
          0,
          0,
          2,
          2,
          0,
          0,
          0,
          2,
          0,
          0,
          2,
          4,
          0,
          0,
          0,
          2,
          0,
          0,
          2,
          2,
          0,
          0,
          2,
          2,
          4,
          4,
          0,
          2,
          2,
          2,
          2,
          10,
          0,
          0,
          2,
          0,
          2,
          0,
          0,
          2,
          0,
          2,
          2,
          0,
          0,
          2,
          2,
          2,
          2,
          0,
          0,
          4,
          0,
          0,
          0,
          0,
          0,
          0,
          0,
          0,
          0,
          0,
          0,
          4,
          0,
          2,
          2,
          0,
          2,
          2,
          0,
          0,
          2,
          0,
          0,
          0,
          2,
          0,
          2,
          2,
          0,
          0,
          2,
          2,
          0,
          0,
          0,
          0,
          2,
          2,
          0,
          0,
          0,
          0,
          4,
          4,
          0,
          0,
          0,
          2,
          2,
          2,
          2,
          2,
          0,
          2,
          0,
          4,
          2,
          0,
          0,
          2,
          2,
          2,
          2,
          0,
          0,
          2,
          0,
          0,
          2,
          0,
          2,
          0,
          0,
          0,
          0,
          0,
          0,
          2,
          0,
          2,
          0,
          2,
          2,
          2,
          0,
          2,
          0,
          0,
          0,
          2,
          2,
          2,
          2,
          2,
          0,
          0,
          2,
          2,
          2,
          0,
          2,
          0,
          2,
          4,
          0,
          4,
          0,
          2,
          2,
          0,
          2,
          2,
          0,
          2,
          2,
          2,
          2,
          2,
          2,
          0,
          0,
          4,
          2,
          2,
          4,
          2,
          2,
          2,
          4,
          4,
          4,
          0,
          4,
          4,
          4,
          4,
          4,
          4,
          2,
          4,
          2,
          2,
          0,
          0,
          0,
          2,
          0,
          0,
          0,
          0,
          2,
          2,
          0,
          0,
          0,
          2,
          2,
          0,
          0,
          0,
          0,
          0,
          0,
          10,
          0,
          10,
          4,
          2,
          0,
          0,
          0,
          0,
          0,
          0,
          7,
          4,
          4,
          2,
          7,
          2,
          0,
          0,
          0,
          2,
          7,
          4,
          0,
          0,
          2,
          2,
          0,
          0,
          0,
          2,
          0,
          0,
          0,
          2,
          7,
          0,
          2,
          0,
          2,
          0,
          0,
          0,
          0,
          0,
          0,
          0,
          0,
          0,
          2,
          2,
          0,
          4,
          2,
          0,
          2,
          0,
          2,
          0,
          0,
          4,
          4,
          0,
          2,
          2,
          2,
          2,
          2,
          0,
          7,
          0,
          0,
          0,
          2,
          0,
          0,
          4,
          7,
          0,
          7,
          7,
          7,
          7,
          2,
          10,
          10,
          0,
          2,
          0,
          2,
          2,
          0,
          2,
          0,
          2,
          2,
          0,
          2,
          0,
          0,
          2,
          0,
          0,
          0,
          0,
          2,
          0,
          2,
          0,
          2,
          0,
          0,
          0,
          2,
          0,
          2,
          2,
          0,
          4,
          0,
          4,
          0,
          0,
          2,
          0,
          7,
          0,
          0,
          0,
          0,
          0,
          0,
          0,
          0,
          0,
          0,
          4,
          4,
          0,
          4,
          4,
          0,
          4,
          0,
          2,
          0,
          7,
          0,
          0,
          0,
          0,
          0,
          0,
          0,
          0,
          0,
          2,
          2,
          2,
          2,
          2,
          0,
          0,
          0,
          0,
          0,
          0,
          0,
          0,
          0,
          0,
          2,
          0,
          2,
          0,
          0,
          0,
          2,
          2,
          0,
          0,
          2,
          0,
          0,
          0,
          0,
          0,
          0,
          0,
          0,
          2,
          2,
          0,
          2,
          2,
          2,
          2,
          0,
          0,
          0,
          0,
          0,
          0,
          4,
          0,
          4,
          0,
          2,
          2,
          2,
          0,
          0,
          2,
          0,
          0,
          4,
          4,
          0,
          0,
          0,
          0,
          0,
          4,
          2,
          2,
          4,
          4,
          2,
          7,
          2,
          2,
          0,
          0,
          0,
          0,
          0,
          0,
          0,
          0,
          0,
          2,
          7,
          0,
          0,
          0,
          2,
          4,
          0,
          0,
          2,
          2,
          4,
          0,
          0,
          0,
          0,
          0,
          2,
          2,
          2,
          0,
          2,
          0,
          0,
          0,
          2,
          0,
          0,
          0,
          2,
          2,
          0,
          2,
          2,
          0,
          2,
          0,
          0,
          0,
          2,
          0,
          0,
          2,
          0,
          2,
          0
         ],
         "y0": " ",
         "yaxis": "y"
        }
       ],
       "layout": {
        "boxmode": "group",
        "legend": {
         "tracegroupgap": 0
        },
        "margin": {
         "t": 60
        },
        "template": {
         "data": {
          "candlestick": [
           {
            "decreasing": {
             "line": {
              "color": "#000033"
             }
            },
            "increasing": {
             "line": {
              "color": "#000032"
             }
            },
            "type": "candlestick"
           }
          ],
          "contour": [
           {
            "colorscale": [
             [
              0,
              "#000011"
             ],
             [
              0.1111111111111111,
              "#000012"
             ],
             [
              0.2222222222222222,
              "#000013"
             ],
             [
              0.3333333333333333,
              "#000014"
             ],
             [
              0.4444444444444444,
              "#000015"
             ],
             [
              0.5555555555555556,
              "#000016"
             ],
             [
              0.6666666666666666,
              "#000017"
             ],
             [
              0.7777777777777778,
              "#000018"
             ],
             [
              0.8888888888888888,
              "#000019"
             ],
             [
              1,
              "#000020"
             ]
            ],
            "type": "contour"
           }
          ],
          "contourcarpet": [
           {
            "colorscale": [
             [
              0,
              "#000011"
             ],
             [
              0.1111111111111111,
              "#000012"
             ],
             [
              0.2222222222222222,
              "#000013"
             ],
             [
              0.3333333333333333,
              "#000014"
             ],
             [
              0.4444444444444444,
              "#000015"
             ],
             [
              0.5555555555555556,
              "#000016"
             ],
             [
              0.6666666666666666,
              "#000017"
             ],
             [
              0.7777777777777778,
              "#000018"
             ],
             [
              0.8888888888888888,
              "#000019"
             ],
             [
              1,
              "#000020"
             ]
            ],
            "type": "contourcarpet"
           }
          ],
          "heatmap": [
           {
            "colorscale": [
             [
              0,
              "#000011"
             ],
             [
              0.1111111111111111,
              "#000012"
             ],
             [
              0.2222222222222222,
              "#000013"
             ],
             [
              0.3333333333333333,
              "#000014"
             ],
             [
              0.4444444444444444,
              "#000015"
             ],
             [
              0.5555555555555556,
              "#000016"
             ],
             [
              0.6666666666666666,
              "#000017"
             ],
             [
              0.7777777777777778,
              "#000018"
             ],
             [
              0.8888888888888888,
              "#000019"
             ],
             [
              1,
              "#000020"
             ]
            ],
            "type": "heatmap"
           }
          ],
          "histogram2d": [
           {
            "colorscale": [
             [
              0,
              "#000011"
             ],
             [
              0.1111111111111111,
              "#000012"
             ],
             [
              0.2222222222222222,
              "#000013"
             ],
             [
              0.3333333333333333,
              "#000014"
             ],
             [
              0.4444444444444444,
              "#000015"
             ],
             [
              0.5555555555555556,
              "#000016"
             ],
             [
              0.6666666666666666,
              "#000017"
             ],
             [
              0.7777777777777778,
              "#000018"
             ],
             [
              0.8888888888888888,
              "#000019"
             ],
             [
              1,
              "#000020"
             ]
            ],
            "type": "histogram2d"
           }
          ],
          "icicle": [
           {
            "textfont": {
             "color": "white"
            },
            "type": "icicle"
           }
          ],
          "sankey": [
           {
            "textfont": {
             "color": "#000036"
            },
            "type": "sankey"
           }
          ],
          "scatter": [
           {
            "marker": {
             "line": {
              "width": 0
             }
            },
            "type": "scatter"
           }
          ],
          "table": [
           {
            "cells": {
             "fill": {
              "color": "#000038"
             },
             "font": {
              "color": "#000037"
             },
             "line": {
              "color": "#000039"
             }
            },
            "header": {
             "fill": {
              "color": "#000040"
             },
             "font": {
              "color": "#000036"
             },
             "line": {
              "color": "#000039"
             }
            },
            "type": "table"
           }
          ],
          "waterfall": [
           {
            "connector": {
             "line": {
              "color": "#000036",
              "width": 2
             }
            },
            "decreasing": {
             "marker": {
              "color": "#000033"
             }
            },
            "increasing": {
             "marker": {
              "color": "#000032"
             }
            },
            "totals": {
             "marker": {
              "color": "#000034"
             }
            },
            "type": "waterfall"
           }
          ]
         },
         "layout": {
          "coloraxis": {
           "colorscale": [
            [
             0,
             "#000011"
            ],
            [
             0.1111111111111111,
             "#000012"
            ],
            [
             0.2222222222222222,
             "#000013"
            ],
            [
             0.3333333333333333,
             "#000014"
            ],
            [
             0.4444444444444444,
             "#000015"
            ],
            [
             0.5555555555555556,
             "#000016"
            ],
            [
             0.6666666666666666,
             "#000017"
            ],
            [
             0.7777777777777778,
             "#000018"
            ],
            [
             0.8888888888888888,
             "#000019"
            ],
            [
             1,
             "#000020"
            ]
           ]
          },
          "colorscale": {
           "diverging": [
            [
             0,
             "#000021"
            ],
            [
             0.1,
             "#000022"
            ],
            [
             0.2,
             "#000023"
            ],
            [
             0.3,
             "#000024"
            ],
            [
             0.4,
             "#000025"
            ],
            [
             0.5,
             "#000026"
            ],
            [
             0.6,
             "#000027"
            ],
            [
             0.7,
             "#000028"
            ],
            [
             0.8,
             "#000029"
            ],
            [
             0.9,
             "#000030"
            ],
            [
             1,
             "#000031"
            ]
           ],
           "sequential": [
            [
             0,
             "#000011"
            ],
            [
             0.1111111111111111,
             "#000012"
            ],
            [
             0.2222222222222222,
             "#000013"
            ],
            [
             0.3333333333333333,
             "#000014"
            ],
            [
             0.4444444444444444,
             "#000015"
            ],
            [
             0.5555555555555556,
             "#000016"
            ],
            [
             0.6666666666666666,
             "#000017"
            ],
            [
             0.7777777777777778,
             "#000018"
            ],
            [
             0.8888888888888888,
             "#000019"
            ],
            [
             1,
             "#000020"
            ]
           ],
           "sequentialminus": [
            [
             0,
             "#000011"
            ],
            [
             0.1111111111111111,
             "#000012"
            ],
            [
             0.2222222222222222,
             "#000013"
            ],
            [
             0.3333333333333333,
             "#000014"
            ],
            [
             0.4444444444444444,
             "#000015"
            ],
            [
             0.5555555555555556,
             "#000016"
            ],
            [
             0.6666666666666666,
             "#000017"
            ],
            [
             0.7777777777777778,
             "#000018"
            ],
            [
             0.8888888888888888,
             "#000019"
            ],
            [
             1,
             "#000020"
            ]
           ]
          },
          "colorway": [
           "#000001",
           "#000002",
           "#000003",
           "#000004",
           "#000005",
           "#000006",
           "#000007",
           "#000008",
           "#000009",
           "#000010"
          ]
         }
        },
        "xaxis": {
         "anchor": "y",
         "domain": [
          0,
          1
         ]
        },
        "yaxis": {
         "anchor": "x",
         "domain": [
          0,
          1
         ],
         "title": {
          "text": "exper"
         }
        }
       }
      }
     },
     "metadata": {},
     "output_type": "display_data"
    }
   ],
   "source": [
    "fig = px.box(df, y = 'exper')\n",
    "fig.show()"
   ]
  },
  {
   "cell_type": "code",
   "execution_count": 36,
   "id": "95f7cf5f",
   "metadata": {},
   "outputs": [
    {
     "data": {
      "application/vnd.plotly.v1+json": {
       "config": {
        "plotlyServerURL": "https://plot.ly"
       },
       "data": [
        {
         "alignmentgroup": "True",
         "hovertemplate": "available_positions=%{y}<extra></extra>",
         "legendgroup": "",
         "marker": {
          "color": "#000001"
         },
         "name": "",
         "notched": false,
         "offsetgroup": "",
         "orientation": "v",
         "showlegend": false,
         "type": "box",
         "x0": " ",
         "xaxis": "x",
         "y": [
          1,
          3,
          2,
          10,
          1,
          1,
          2,
          1,
          3,
          2,
          4,
          5,
          4,
          3,
          1,
          2,
          1,
          1,
          1,
          1,
          1,
          1,
          1,
          4,
          1,
          1,
          1,
          9,
          1,
          2,
          2,
          3,
          1,
          2,
          2,
          1,
          2,
          2,
          1,
          2,
          1,
          2,
          4,
          2,
          10,
          2,
          10,
          50,
          10,
          1,
          1,
          6,
          2,
          1,
          4,
          1,
          2,
          1,
          1,
          1,
          2,
          1,
          1,
          1,
          3,
          1,
          1,
          4,
          1,
          3,
          2,
          1,
          3,
          1,
          2,
          1,
          1,
          1,
          1,
          1,
          4,
          2,
          1,
          2,
          2,
          2,
          1,
          3,
          1,
          1,
          2,
          1,
          2,
          10,
          1,
          1,
          5,
          1,
          1,
          1,
          3,
          1,
          1,
          2,
          1,
          2,
          1,
          3,
          1,
          1,
          2,
          1,
          2,
          1,
          1,
          1,
          2,
          1,
          3,
          2,
          4,
          5,
          1,
          3,
          1,
          1,
          1,
          1,
          1,
          1,
          1,
          1,
          2,
          2,
          2,
          1,
          2,
          3,
          1,
          5,
          5,
          5,
          3,
          3,
          3,
          3,
          1,
          1,
          1,
          1,
          1,
          1,
          3,
          1,
          1,
          6,
          1,
          1,
          1,
          3,
          3,
          2,
          3,
          5,
          3,
          5,
          1,
          1,
          1,
          1,
          1,
          2,
          1,
          4,
          1,
          1,
          2,
          2,
          1,
          1,
          1,
          1,
          1,
          1,
          1,
          2,
          3,
          2,
          1,
          1,
          1,
          3,
          1,
          2,
          1,
          1,
          1,
          1,
          2,
          1,
          46,
          2,
          8,
          2,
          1,
          1,
          1,
          1,
          25,
          2,
          1,
          1,
          1,
          1,
          3,
          1,
          5,
          5,
          1,
          1,
          5,
          1,
          1,
          1,
          1,
          2,
          2,
          1,
          1,
          2,
          1,
          2,
          2,
          1,
          1,
          20,
          10,
          1,
          1,
          1,
          2,
          10,
          15,
          1,
          1,
          20,
          1,
          1,
          2,
          3,
          1,
          1,
          2,
          10,
          1,
          1,
          1,
          2,
          1,
          1,
          1,
          2,
          2,
          2,
          1,
          1,
          1,
          1,
          5,
          1,
          7,
          2,
          1,
          4,
          2,
          3,
          1,
          4,
          2,
          2,
          1,
          1,
          1,
          1,
          1,
          1,
          1,
          1,
          1,
          2,
          1,
          1,
          1,
          1,
          1,
          4,
          3,
          3,
          50,
          50,
          1,
          1,
          2,
          1,
          1,
          2,
          4,
          4,
          1,
          10,
          1,
          50,
          50,
          20,
          50,
          50,
          50,
          1,
          1,
          2,
          1,
          1,
          1,
          1,
          1,
          2,
          1,
          1,
          5,
          1,
          1,
          1,
          1,
          2,
          1,
          2,
          1,
          1,
          3,
          10,
          2,
          1,
          4,
          5,
          7,
          6,
          5,
          6,
          1,
          1,
          1,
          5,
          10,
          1,
          1,
          1,
          1,
          3,
          2,
          1,
          1,
          2,
          10,
          1,
          2,
          2,
          3,
          1,
          1,
          1,
          4,
          3,
          3,
          3,
          1,
          1,
          1,
          1,
          3,
          5,
          5,
          5,
          3,
          5,
          3,
          2,
          1,
          1,
          1,
          2,
          2,
          1,
          1,
          2,
          1,
          1,
          2,
          2,
          1,
          1,
          1,
          1,
          1,
          2,
          20,
          50,
          1,
          20,
          3,
          3,
          3,
          2,
          3,
          2,
          1,
          5,
          1,
          5,
          5,
          2,
          1,
          3,
          3,
          2,
          1,
          1,
          5,
          10,
          1,
          1,
          1,
          1,
          1,
          1,
          1,
          1,
          2,
          2,
          2,
          1,
          1,
          1,
          3,
          2,
          5,
          5,
          1,
          4,
          1,
          3,
          1,
          1,
          10,
          2,
          10,
          10,
          1,
          7,
          3,
          2,
          1,
          4,
          1,
          1,
          1,
          2,
          5,
          15,
          2,
          2,
          2,
          1,
          1,
          2,
          2,
          3,
          1,
          1,
          1,
          1,
          1,
          2,
          1,
          4,
          1,
          2,
          1,
          4,
          2,
          1,
          1,
          3,
          6,
          1,
          1,
          1,
          3,
          1,
          1,
          5,
          1,
          1,
          1,
          2,
          1,
          1,
          1,
          1,
          1,
          1,
          1,
          1,
          1,
          3,
          1,
          10,
          2,
          3,
          1,
          1,
          2,
          1,
          1,
          4,
          1,
          1,
          1,
          2,
          1,
          1,
          1,
          1,
          30,
          30,
          1,
          30,
          2,
          2,
          2,
          1,
          1,
          1,
          2,
          1,
          4,
          2,
          2,
          2,
          2,
          2,
          1,
          1,
          2,
          1,
          6,
          1,
          1,
          1,
          2,
          1,
          3,
          2,
          1,
          2,
          1,
          2,
          1,
          1,
          1,
          1,
          1,
          2,
          1,
          2,
          2,
          1,
          1,
          1,
          1,
          1,
          1,
          2,
          1,
          2,
          1,
          2,
          2,
          1,
          1,
          1,
          4,
          3,
          1,
          4,
          2,
          1,
          1,
          1,
          1,
          5,
          3,
          1,
          1,
          1,
          2,
          1,
          4,
          1,
          2,
          6,
          1,
          1,
          2,
          2,
          1,
          1,
          4,
          1,
          1,
          4,
          3,
          1,
          2,
          1,
          6,
          6,
          6,
          1,
          3,
          1,
          2,
          50,
          1,
          2,
          1,
          4,
          3,
          4,
          2,
          1,
          1,
          1,
          2,
          1,
          2,
          3,
          2,
          1,
          3,
          2,
          1,
          1,
          1,
          10,
          10,
          50,
          50,
          1,
          1,
          1,
          1,
          1,
          1,
          1,
          2,
          2,
          50,
          5,
          5,
          20,
          10,
          2,
          1,
          1,
          1,
          1,
          3,
          50,
          50,
          1,
          1,
          2,
          1,
          1,
          1,
          8,
          1,
          1,
          1,
          1,
          1,
          1,
          1,
          5,
          1,
          1,
          4,
          1,
          1,
          1,
          1,
          6,
          1,
          1,
          1,
          2,
          2,
          2,
          1,
          4,
          1,
          1,
          1,
          1,
          1,
          1,
          1,
          1,
          1,
          2,
          1,
          4,
          5,
          1,
          1,
          50,
          4,
          4,
          4,
          1,
          1,
          1,
          4,
          4,
          1,
          1,
          1,
          1,
          2,
          2,
          3,
          1,
          1,
          1,
          1,
          2,
          1,
          1,
          1,
          1,
          1,
          1,
          1,
          2,
          1,
          1,
          2,
          1,
          1,
          1,
          1,
          2,
          3,
          1,
          1,
          2,
          5,
          1,
          6,
          1,
          1,
          2,
          1,
          1,
          2,
          1,
          4,
          6,
          1,
          1,
          1,
          1,
          2,
          1,
          2,
          1,
          2,
          1,
          1,
          1,
          10,
          1,
          2,
          1,
          1,
          1,
          1,
          1,
          3,
          1,
          6,
          1,
          1,
          3,
          1,
          1,
          1,
          3,
          1,
          3,
          1,
          1,
          1,
          1,
          3,
          2,
          6,
          4,
          1,
          1,
          1,
          1,
          3,
          1,
          1,
          1,
          4,
          1,
          1,
          1,
          2,
          1,
          1,
          10,
          1,
          1,
          6,
          1,
          1,
          30,
          1,
          2,
          1,
          1,
          1,
          1,
          2,
          1,
          2,
          1,
          1,
          3,
          3,
          2,
          1,
          1,
          2,
          1,
          1,
          1,
          1,
          1,
          1,
          1,
          1,
          3,
          1,
          1,
          2,
          1,
          1,
          1,
          1,
          50,
          1,
          1,
          1,
          1,
          1,
          1,
          1,
          1,
          1,
          1,
          4,
          1,
          1,
          1,
          1,
          3,
          3,
          1,
          1,
          4,
          1,
          2,
          2,
          2,
          1,
          3,
          1,
          1,
          1,
          2,
          2,
          2,
          2,
          1,
          1,
          1,
          2,
          5,
          1,
          1,
          1,
          1,
          1,
          1,
          5,
          6,
          1,
          1,
          5,
          30,
          1,
          1,
          2,
          1,
          1,
          1,
          1,
          1,
          1,
          1,
          1,
          1,
          1,
          1,
          2,
          1,
          1,
          4,
          1,
          1,
          1,
          5,
          1,
          4,
          1,
          1,
          1,
          1,
          1,
          20,
          1,
          1,
          1,
          2,
          1,
          1,
          1,
          3,
          2,
          3,
          1,
          20,
          1,
          1,
          1,
          1,
          1,
          1,
          1,
          1,
          2,
          6,
          1,
          2,
          1,
          3,
          3,
          3,
          2,
          1,
          1,
          1,
          2,
          2,
          2,
          4,
          3,
          5,
          5,
          1,
          1,
          5,
          2,
          1,
          1,
          1,
          2,
          4,
          2,
          4,
          1,
          1,
          1,
          1,
          2,
          1,
          1,
          1,
          5,
          5,
          1,
          1,
          1,
          1,
          4,
          4,
          5,
          1,
          1,
          1,
          2,
          4,
          1,
          6,
          10,
          50,
          1,
          1,
          1,
          1,
          1,
          2,
          1,
          2,
          1,
          1,
          1,
          1,
          1,
          2,
          3,
          2,
          4,
          1,
          1,
          1,
          2,
          2,
          2,
          2,
          2,
          2,
          2,
          2,
          2,
          2,
          2,
          1,
          1,
          1,
          1,
          1,
          1,
          1,
          2,
          9,
          1,
          3,
          1,
          3,
          4,
          9,
          9,
          2,
          1,
          3,
          3,
          1,
          3,
          6,
          5,
          1,
          7,
          3,
          4,
          1,
          1,
          2,
          1,
          3,
          2,
          1,
          1,
          3,
          1,
          1,
          1,
          1,
          1,
          1,
          4,
          2,
          1,
          10,
          1,
          1,
          1,
          2,
          1,
          1,
          2,
          1,
          1,
          1,
          1,
          1,
          1,
          1,
          6,
          4,
          1,
          1,
          1,
          1,
          5,
          1,
          1,
          1,
          3,
          15,
          1,
          1,
          1,
          1,
          1,
          1,
          5,
          1,
          1,
          1,
          20,
          20,
          1,
          1,
          1,
          2,
          10,
          2,
          2,
          3,
          1,
          1,
          1,
          1,
          1,
          1,
          1,
          1,
          1,
          1,
          1,
          1,
          5,
          1,
          1,
          1,
          1,
          1,
          10,
          1,
          1,
          2,
          5,
          2,
          2,
          1,
          1,
          1,
          1,
          1,
          1,
          1,
          1,
          2,
          1,
          1,
          1,
          1,
          3,
          1,
          1,
          1,
          2,
          2,
          1,
          1,
          7,
          1,
          5,
          1,
          2,
          1,
          1,
          1,
          1,
          1,
          4,
          1,
          1,
          3,
          1,
          2,
          1,
          1,
          6,
          1,
          2,
          2,
          1,
          2,
          1,
          3,
          2,
          1,
          1,
          1,
          2,
          8,
          2,
          1,
          1,
          3,
          1,
          1,
          1,
          2,
          2,
          1,
          1,
          2,
          1,
          30,
          5,
          1,
          1,
          1,
          1,
          2,
          6,
          2,
          2,
          1,
          1,
          2,
          1,
          5,
          1,
          1,
          1,
          1,
          1,
          1,
          2,
          2,
          5,
          4,
          2,
          1,
          1,
          1,
          2,
          1,
          2,
          4,
          1,
          2,
          1,
          1,
          1,
          1,
          1,
          1,
          3,
          1,
          1,
          1,
          2,
          2,
          10,
          10,
          1,
          1,
          1,
          1,
          1,
          2,
          1,
          1,
          1,
          1,
          10,
          1,
          3,
          1,
          1,
          1,
          1,
          1,
          1,
          1,
          1,
          4,
          1,
          3,
          1,
          2,
          1,
          1,
          3,
          2,
          1,
          1,
          4,
          1,
          1,
          1,
          4,
          1,
          1,
          2,
          1,
          2,
          1,
          1,
          1,
          1,
          1,
          2,
          2,
          2,
          1,
          1,
          5,
          5,
          5,
          1,
          2,
          1,
          1,
          1,
          1,
          1,
          2,
          1,
          1,
          1,
          1,
          2,
          2,
          2,
          2,
          3,
          1,
          1,
          5,
          1,
          1,
          4,
          1,
          1,
          1,
          2,
          6,
          1,
          1,
          1,
          1,
          1,
          1,
          1,
          1,
          1,
          1,
          1,
          1,
          3
         ],
         "y0": " ",
         "yaxis": "y"
        }
       ],
       "layout": {
        "boxmode": "group",
        "legend": {
         "tracegroupgap": 0
        },
        "margin": {
         "t": 60
        },
        "template": {
         "data": {
          "candlestick": [
           {
            "decreasing": {
             "line": {
              "color": "#000033"
             }
            },
            "increasing": {
             "line": {
              "color": "#000032"
             }
            },
            "type": "candlestick"
           }
          ],
          "contour": [
           {
            "colorscale": [
             [
              0,
              "#000011"
             ],
             [
              0.1111111111111111,
              "#000012"
             ],
             [
              0.2222222222222222,
              "#000013"
             ],
             [
              0.3333333333333333,
              "#000014"
             ],
             [
              0.4444444444444444,
              "#000015"
             ],
             [
              0.5555555555555556,
              "#000016"
             ],
             [
              0.6666666666666666,
              "#000017"
             ],
             [
              0.7777777777777778,
              "#000018"
             ],
             [
              0.8888888888888888,
              "#000019"
             ],
             [
              1,
              "#000020"
             ]
            ],
            "type": "contour"
           }
          ],
          "contourcarpet": [
           {
            "colorscale": [
             [
              0,
              "#000011"
             ],
             [
              0.1111111111111111,
              "#000012"
             ],
             [
              0.2222222222222222,
              "#000013"
             ],
             [
              0.3333333333333333,
              "#000014"
             ],
             [
              0.4444444444444444,
              "#000015"
             ],
             [
              0.5555555555555556,
              "#000016"
             ],
             [
              0.6666666666666666,
              "#000017"
             ],
             [
              0.7777777777777778,
              "#000018"
             ],
             [
              0.8888888888888888,
              "#000019"
             ],
             [
              1,
              "#000020"
             ]
            ],
            "type": "contourcarpet"
           }
          ],
          "heatmap": [
           {
            "colorscale": [
             [
              0,
              "#000011"
             ],
             [
              0.1111111111111111,
              "#000012"
             ],
             [
              0.2222222222222222,
              "#000013"
             ],
             [
              0.3333333333333333,
              "#000014"
             ],
             [
              0.4444444444444444,
              "#000015"
             ],
             [
              0.5555555555555556,
              "#000016"
             ],
             [
              0.6666666666666666,
              "#000017"
             ],
             [
              0.7777777777777778,
              "#000018"
             ],
             [
              0.8888888888888888,
              "#000019"
             ],
             [
              1,
              "#000020"
             ]
            ],
            "type": "heatmap"
           }
          ],
          "histogram2d": [
           {
            "colorscale": [
             [
              0,
              "#000011"
             ],
             [
              0.1111111111111111,
              "#000012"
             ],
             [
              0.2222222222222222,
              "#000013"
             ],
             [
              0.3333333333333333,
              "#000014"
             ],
             [
              0.4444444444444444,
              "#000015"
             ],
             [
              0.5555555555555556,
              "#000016"
             ],
             [
              0.6666666666666666,
              "#000017"
             ],
             [
              0.7777777777777778,
              "#000018"
             ],
             [
              0.8888888888888888,
              "#000019"
             ],
             [
              1,
              "#000020"
             ]
            ],
            "type": "histogram2d"
           }
          ],
          "icicle": [
           {
            "textfont": {
             "color": "white"
            },
            "type": "icicle"
           }
          ],
          "sankey": [
           {
            "textfont": {
             "color": "#000036"
            },
            "type": "sankey"
           }
          ],
          "scatter": [
           {
            "marker": {
             "line": {
              "width": 0
             }
            },
            "type": "scatter"
           }
          ],
          "table": [
           {
            "cells": {
             "fill": {
              "color": "#000038"
             },
             "font": {
              "color": "#000037"
             },
             "line": {
              "color": "#000039"
             }
            },
            "header": {
             "fill": {
              "color": "#000040"
             },
             "font": {
              "color": "#000036"
             },
             "line": {
              "color": "#000039"
             }
            },
            "type": "table"
           }
          ],
          "waterfall": [
           {
            "connector": {
             "line": {
              "color": "#000036",
              "width": 2
             }
            },
            "decreasing": {
             "marker": {
              "color": "#000033"
             }
            },
            "increasing": {
             "marker": {
              "color": "#000032"
             }
            },
            "totals": {
             "marker": {
              "color": "#000034"
             }
            },
            "type": "waterfall"
           }
          ]
         },
         "layout": {
          "coloraxis": {
           "colorscale": [
            [
             0,
             "#000011"
            ],
            [
             0.1111111111111111,
             "#000012"
            ],
            [
             0.2222222222222222,
             "#000013"
            ],
            [
             0.3333333333333333,
             "#000014"
            ],
            [
             0.4444444444444444,
             "#000015"
            ],
            [
             0.5555555555555556,
             "#000016"
            ],
            [
             0.6666666666666666,
             "#000017"
            ],
            [
             0.7777777777777778,
             "#000018"
            ],
            [
             0.8888888888888888,
             "#000019"
            ],
            [
             1,
             "#000020"
            ]
           ]
          },
          "colorscale": {
           "diverging": [
            [
             0,
             "#000021"
            ],
            [
             0.1,
             "#000022"
            ],
            [
             0.2,
             "#000023"
            ],
            [
             0.3,
             "#000024"
            ],
            [
             0.4,
             "#000025"
            ],
            [
             0.5,
             "#000026"
            ],
            [
             0.6,
             "#000027"
            ],
            [
             0.7,
             "#000028"
            ],
            [
             0.8,
             "#000029"
            ],
            [
             0.9,
             "#000030"
            ],
            [
             1,
             "#000031"
            ]
           ],
           "sequential": [
            [
             0,
             "#000011"
            ],
            [
             0.1111111111111111,
             "#000012"
            ],
            [
             0.2222222222222222,
             "#000013"
            ],
            [
             0.3333333333333333,
             "#000014"
            ],
            [
             0.4444444444444444,
             "#000015"
            ],
            [
             0.5555555555555556,
             "#000016"
            ],
            [
             0.6666666666666666,
             "#000017"
            ],
            [
             0.7777777777777778,
             "#000018"
            ],
            [
             0.8888888888888888,
             "#000019"
            ],
            [
             1,
             "#000020"
            ]
           ],
           "sequentialminus": [
            [
             0,
             "#000011"
            ],
            [
             0.1111111111111111,
             "#000012"
            ],
            [
             0.2222222222222222,
             "#000013"
            ],
            [
             0.3333333333333333,
             "#000014"
            ],
            [
             0.4444444444444444,
             "#000015"
            ],
            [
             0.5555555555555556,
             "#000016"
            ],
            [
             0.6666666666666666,
             "#000017"
            ],
            [
             0.7777777777777778,
             "#000018"
            ],
            [
             0.8888888888888888,
             "#000019"
            ],
            [
             1,
             "#000020"
            ]
           ]
          },
          "colorway": [
           "#000001",
           "#000002",
           "#000003",
           "#000004",
           "#000005",
           "#000006",
           "#000007",
           "#000008",
           "#000009",
           "#000010"
          ]
         }
        },
        "xaxis": {
         "anchor": "y",
         "domain": [
          0,
          1
         ]
        },
        "yaxis": {
         "anchor": "x",
         "domain": [
          0,
          1
         ],
         "title": {
          "text": "available_positions"
         }
        }
       }
      }
     },
     "metadata": {},
     "output_type": "display_data"
    }
   ],
   "source": [
    "fig = px.box(df, y = 'available_positions')\n",
    "fig.show()"
   ]
  },
  {
   "cell_type": "code",
   "execution_count": 37,
   "id": "967ecab9",
   "metadata": {},
   "outputs": [
    {
     "data": {
      "application/vnd.plotly.v1+json": {
       "config": {
        "plotlyServerURL": "https://plot.ly"
       },
       "data": [
        {
         "alignmentgroup": "True",
         "hovertemplate": "salary (SAR)=%{y}<extra></extra>",
         "legendgroup": "",
         "marker": {
          "color": "#000001"
         },
         "name": "",
         "notched": false,
         "offsetgroup": "",
         "orientation": "v",
         "showlegend": false,
         "type": "box",
         "x0": " ",
         "xaxis": "x",
         "y": [
          5000,
          5000,
          4000,
          5000,
          5000,
          4500,
          6000,
          8000,
          10000,
          5000,
          7200,
          4000,
          7200,
          6000,
          7000,
          3000,
          9000,
          12000,
          4000,
          5500,
          5000,
          8400,
          4000,
          4000,
          4000,
          4000,
          4000,
          6000,
          4500,
          5500,
          4000,
          3200,
          5000,
          7000,
          7000,
          7000,
          4500,
          4500,
          4000,
          4500,
          4500,
          4000,
          4500,
          5000,
          5500,
          4500,
          4500,
          4000,
          4000,
          5000,
          6000,
          4000,
          4170,
          4000,
          4500,
          5500,
          6000,
          4000,
          4000,
          4500,
          4500,
          4000,
          4000,
          5500,
          4000,
          4000,
          4000,
          4000,
          4000,
          4000,
          4000,
          4000,
          7000,
          6000,
          4000,
          4000,
          4000,
          7000,
          5000,
          5500,
          3640,
          8000,
          8000,
          5000,
          4000,
          5000,
          4000,
          5500,
          4000,
          7000,
          4000,
          5250,
          5000,
          4000,
          7000,
          7000,
          5000,
          4000,
          4000,
          8000,
          4000,
          4000,
          4000,
          4000,
          4000,
          5000,
          4500,
          5500,
          4000,
          6000,
          3000,
          4400,
          4000,
          4000,
          4000,
          4000,
          3200,
          4082,
          4000,
          4000,
          4000,
          4000,
          4000,
          4500,
          4000,
          7000,
          5000,
          4000,
          4082,
          4082,
          6000,
          6000,
          6000,
          7000,
          7000,
          5000,
          8000,
          4000,
          5000,
          5000,
          5000,
          5000,
          8400,
          8400,
          8400,
          8400,
          6150,
          6500,
          6000,
          4400,
          4500,
          7000,
          4000,
          4000,
          5000,
          4000,
          6000,
          5000,
          4000,
          4000,
          4000,
          5000,
          4500,
          4500,
          4500,
          5000,
          4000,
          5000,
          15000,
          16000,
          10000,
          6000,
          15000,
          4000,
          4500,
          5000,
          5000,
          4000,
          5000,
          4500,
          7000,
          4500,
          4000,
          4000,
          7000,
          4000,
          4000,
          4000,
          4000,
          4000,
          6000,
          5000,
          6500,
          5000,
          6000,
          3000,
          4000,
          5700,
          5500,
          4500,
          5000,
          4000,
          4000,
          4000,
          4000,
          4000,
          5000,
          4000,
          4000,
          4000,
          4000,
          4000,
          6000,
          4000,
          4000,
          10000,
          5000,
          4000,
          4000,
          4782,
          3200,
          7000,
          5000,
          6000,
          4000,
          10000,
          4500,
          15000,
          4500,
          7000,
          5000,
          5000,
          5500,
          5000,
          4000,
          4500,
          4000,
          4000,
          8400,
          4500,
          6000,
          4000,
          4000,
          10000,
          4000,
          4000,
          4000,
          5000,
          4000,
          6000,
          4000,
          4000,
          4000,
          4000,
          5000,
          4000,
          5000,
          4000,
          7000,
          5000,
          4000,
          4000,
          4000,
          4000,
          5000,
          5000,
          5000,
          4000,
          5000,
          4375,
          6000,
          4000,
          5000,
          5000,
          5000,
          5000,
          6500,
          4000,
          5500,
          4000,
          5700,
          4434,
          4000,
          4000,
          6000,
          4000,
          10000,
          6000,
          6000,
          5000,
          4000,
          4000,
          8000,
          10000,
          6500,
          5000,
          4000,
          4000,
          6000,
          6000,
          4000,
          4000,
          4000,
          4000,
          13889,
          4000,
          4444,
          4800,
          4000,
          5000,
          4000,
          6000,
          6000,
          6000,
          6000,
          6000,
          6000,
          5000,
          7000,
          5000,
          4000,
          4000,
          4000,
          4000,
          5000,
          4500,
          5000,
          4500,
          4500,
          4000,
          4000,
          4000,
          4000,
          4000,
          4000,
          5000,
          4000,
          4000,
          5625,
          9200,
          3000,
          4000,
          5000,
          4000,
          5600,
          5600,
          5600,
          5600,
          4000,
          4000,
          4500,
          5500,
          4800,
          8803,
          4000,
          8803,
          4000,
          4000,
          7000,
          5000,
          4000,
          4000,
          4000,
          4000,
          6000,
          7000,
          4000,
          4000,
          8000,
          4000,
          4000,
          4500,
          4000,
          4000,
          5700,
          5700,
          5700,
          5700,
          5000,
          5000,
          6000,
          5000,
          5000,
          4500,
          4000,
          4000,
          3200,
          4000,
          4000,
          4000,
          4000,
          5000,
          6000,
          6000,
          5700,
          10000,
          8000,
          6000,
          6000,
          3500,
          6000,
          4500,
          4000,
          6000,
          6000,
          5093,
          5000,
          7000,
          7000,
          7000,
          4000,
          4000,
          4000,
          5800,
          5000,
          4000,
          9000,
          4000,
          4000,
          4000,
          5000,
          4000,
          4000,
          5625,
          6000,
          6000,
          5000,
          4000,
          5000,
          5000,
          5000,
          5000,
          5000,
          6000,
          5200,
          8000,
          7000,
          4000,
          8500,
          4000,
          4500,
          4000,
          3600,
          6000,
          4000,
          4000,
          4000,
          4000,
          6000,
          7000,
          4000,
          7500,
          4408,
          4000,
          5000,
          5500,
          4000,
          4000,
          4000,
          5000,
          4000,
          6000,
          4000,
          27000,
          4000,
          5000,
          7500,
          4083,
          7000,
          4000,
          4500,
          4000,
          6500,
          7000,
          12000,
          5000,
          4000,
          5500,
          5500,
          5000,
          10000,
          4000,
          5000,
          4600,
          8496,
          4000,
          5000,
          6000,
          4000,
          8000,
          6000,
          4000,
          4500,
          5000,
          5000,
          5000,
          4000,
          6000,
          6000,
          4000,
          4000,
          4500,
          5000,
          8000,
          6500,
          4000,
          5500,
          4000,
          6000,
          6250,
          4000,
          8333,
          4000,
          4000,
          5000,
          4000,
          4000,
          4000,
          4000,
          5000,
          5500,
          7000,
          32000,
          4000,
          4000,
          12325,
          4000,
          4500,
          5625,
          4000,
          7000,
          3500,
          6583,
          6583,
          4000,
          6583,
          4000,
          4000,
          4000,
          4000,
          4000,
          4000,
          4000,
          4000,
          4000,
          4000,
          4000,
          4000,
          4000,
          4000,
          10000,
          15000,
          4000,
          5500,
          5000,
          4000,
          4000,
          5000,
          4000,
          4500,
          4000,
          4000,
          4500,
          7000,
          5500,
          6000,
          4800,
          6500,
          6000,
          7500,
          8500,
          6000,
          5599,
          4500,
          4000,
          4000,
          3500,
          4000,
          8000,
          4000,
          5000,
          5000,
          7500,
          4500,
          7500,
          4000,
          4000,
          5700,
          5700,
          4000,
          5500,
          6000,
          5000,
          4000,
          8000,
          4000,
          4000,
          5000,
          4000,
          4500,
          4000,
          4000,
          8500,
          8500,
          5500,
          10000,
          4500,
          10000,
          4500,
          4500,
          10000,
          7000,
          4500,
          4500,
          9500,
          10000,
          4500,
          11000,
          11000,
          4500,
          6000,
          4000,
          4000,
          4750,
          5500,
          5500,
          7000,
          5000,
          5000,
          4000,
          4000,
          4500,
          4000,
          5000,
          5000,
          4000,
          4000,
          4000,
          5000,
          4000,
          3500,
          4000,
          4500,
          4000,
          4000,
          6500,
          4000,
          5000,
          6000,
          4000,
          8000,
          4000,
          4400,
          5000,
          5000,
          5000,
          5000,
          8000,
          5000,
          4000,
          4000,
          4000,
          4000,
          4000,
          4000,
          4320,
          4630,
          4375,
          4500,
          5066,
          4500,
          4500,
          4000,
          4500,
          4500,
          4500,
          4000,
          4630,
          4630,
          5000,
          4000,
          7000,
          4000,
          4000,
          6000,
          5000,
          6000,
          5000,
          5000,
          7000,
          8500,
          5500,
          7500,
          4000,
          4000,
          5000,
          5200,
          4000,
          6000,
          4687,
          5000,
          4625,
          4000,
          6000,
          6000,
          5000,
          5000,
          4500,
          4000,
          4500,
          4500,
          8000,
          6500,
          6500,
          6000,
          5000,
          4500,
          5000,
          5000,
          7500,
          7000,
          4500,
          4500,
          5500,
          4000,
          3200,
          5500,
          4500,
          4000,
          5700,
          10250,
          5000,
          4500,
          4500,
          5000,
          4500,
          4000,
          15000,
          4000,
          4000,
          8000,
          5000,
          5000,
          4000,
          4000,
          4000,
          4000,
          4000,
          4000,
          4000,
          5500,
          4000,
          7000,
          5000,
          4000,
          5040,
          4170,
          5000,
          3198,
          4500,
          4000,
          6000,
          5000,
          6000,
          6000,
          4000,
          4500,
          4000,
          4000,
          4000,
          4000,
          4000,
          7000,
          4050,
          4000,
          4000,
          4000,
          4000,
          6000,
          5700,
          5700,
          5700,
          5700,
          7000,
          8400,
          7000,
          8400,
          9600,
          6000,
          4000,
          4000,
          4000,
          8000,
          5000,
          3500,
          4000,
          5000,
          6000,
          4000,
          6500,
          4000,
          7000,
          8500,
          4000,
          5600,
          8000,
          6000,
          7000,
          4000,
          3500,
          7000,
          5000,
          5000,
          5000,
          4000,
          4500,
          4500,
          4500,
          4000,
          6000,
          6000,
          4000,
          4000,
          4000,
          4000,
          5000,
          4000,
          5000,
          4000,
          15000,
          5000,
          5000,
          7000,
          4000,
          5000,
          6000,
          4000,
          6500,
          6000,
          4500,
          6000,
          5000,
          7000,
          6000,
          5000,
          4200,
          3200,
          4800,
          4000,
          4000,
          4000,
          4000,
          5000,
          5000,
          8000,
          4000,
          4000,
          4000,
          4000,
          4000,
          4200,
          4000,
          4000,
          4000,
          4000,
          4000,
          4082,
          4000,
          4000,
          6000,
          6000,
          4000,
          4000,
          35000,
          5500,
          6000,
          4000,
          3200,
          4000,
          4000,
          3200,
          7000,
          5700,
          6000,
          4000,
          7000,
          13200,
          4000,
          4000,
          5700,
          4000,
          6000,
          5500,
          4000,
          4000,
          3000,
          6000,
          5000,
          4000,
          4000,
          7000,
          4000,
          4000,
          4000,
          4000,
          4000,
          7500,
          6000,
          3200,
          4000,
          4000,
          6000,
          5000,
          8000,
          10000,
          5271,
          5000,
          5500,
          4500,
          5000,
          15532,
          4000,
          4667,
          4000,
          3200,
          5500,
          4000,
          4000,
          5000,
          4000,
          4500,
          5000,
          4500,
          5500,
          4300,
          4000,
          7000,
          4500,
          4000,
          4000,
          12000,
          4000,
          4000,
          4000,
          4000,
          3640,
          4500,
          4000,
          4000,
          4000,
          4000,
          4001,
          5000,
          4500,
          4500,
          5000,
          5500,
          5000,
          6000,
          4000,
          4000,
          3300,
          4000,
          4000,
          4000,
          5500,
          4000,
          4000,
          4000,
          5200,
          5500,
          4000,
          4000,
          4000,
          4000,
          6000,
          5000,
          5483,
          4000,
          5700,
          5700,
          5700,
          5625,
          6250,
          7200,
          5500,
          5000,
          5000,
          4000,
          5000,
          5000,
          5500,
          6000,
          7000,
          6000,
          4500,
          7000,
          5500,
          6000,
          5500,
          6000,
          4000,
          4000,
          5000,
          8000,
          8000,
          4000,
          4000,
          4000,
          6000,
          3200,
          4000,
          5000,
          5000,
          5000,
          4000,
          6000,
          6000,
          4000,
          4000,
          5000,
          6000,
          4000,
          4000,
          4000,
          5500,
          5000,
          5000,
          5000,
          5000,
          7000,
          7000,
          7000,
          7000,
          7000,
          4000,
          4000,
          4500,
          6000,
          6000,
          4000,
          4000,
          4000,
          4000,
          7000,
          5000,
          7000,
          6500,
          5700,
          4000,
          6000,
          8000,
          12000,
          6000,
          8000,
          12000,
          8000,
          8000,
          12000,
          8000,
          6000,
          6000,
          6000,
          3500,
          8000,
          6000,
          3500,
          7000,
          4000,
          5000,
          5000,
          5000,
          5000,
          5000,
          5000,
          5000,
          5000,
          7000,
          7000,
          5000,
          7000,
          6000,
          5000,
          5000,
          5000,
          5000,
          5000,
          4000,
          7000,
          4000,
          4000,
          6000,
          5700,
          5000,
          5000,
          7757,
          7000,
          4000,
          4000,
          4000,
          4500,
          3200,
          4500,
          4000,
          18000,
          4500,
          8000,
          6250,
          5500,
          3500,
          6000,
          4000,
          4000,
          4000,
          6000,
          10000,
          7500,
          7500,
          7500,
          10000,
          7500,
          4000,
          4500,
          4500,
          4000,
          7000,
          5000,
          4000,
          4000,
          4000,
          4000,
          4500,
          4500,
          4000,
          4000,
          4500,
          4500,
          3500,
          7000,
          7000,
          4000,
          5000,
          4000,
          3600,
          3600,
          3600,
          4000,
          6000,
          4000,
          4000,
          4000,
          4000,
          6000,
          5500,
          5000,
          4000,
          6000,
          4000,
          4200,
          8000,
          8000,
          8000,
          6000,
          4500,
          10000,
          10000,
          5000,
          8000,
          6999,
          7000,
          7000,
          7000,
          6000,
          15000,
          4000,
          4082,
          10000,
          4000,
          4000,
          4000,
          4000,
          9900,
          5000,
          9900,
          9900,
          9900,
          9900,
          5500,
          9900,
          9900,
          4000,
          6500,
          4000,
          4000,
          6000,
          4082,
          7000,
          5000,
          5000,
          4000,
          6000,
          6500,
          4000,
          7500,
          4000,
          4000,
          4000,
          4000,
          6000,
          6000,
          4000,
          4000,
          4000,
          4000,
          4900,
          5000,
          5000,
          4500,
          5500,
          7000,
          5500,
          6000,
          4000,
          3000,
          6000,
          4000,
          4000,
          4000,
          4000,
          12400,
          6000,
          4200,
          4000,
          5000,
          4000,
          4000,
          3500,
          6000,
          7000,
          4500,
          6000,
          5000,
          5500,
          5000,
          7500,
          4000,
          4000,
          4000,
          9259,
          4000,
          12000,
          4000,
          4000,
          5000,
          4000,
          4000,
          4000,
          4000,
          4000,
          4000,
          5000,
          5000,
          4000,
          4000,
          4000,
          4000,
          4000,
          4000,
          4000,
          6000,
          6000,
          4000,
          5500,
          5500,
          5500,
          5500,
          4000,
          4000,
          4000,
          4000,
          7000,
          6000,
          5000,
          4000,
          5000,
          4000,
          6000,
          7000,
          7000,
          4000,
          4500,
          4500,
          5500,
          4000,
          5000,
          5500,
          5000,
          8000,
          4000,
          5000,
          6000,
          4000,
          4000,
          4000,
          5000,
          4000,
          4000,
          12000,
          4900,
          7000,
          4000,
          7000,
          4000,
          4000,
          4000,
          4500,
          4000,
          4000,
          4000,
          4200,
          4000,
          5000,
          4500,
          4000,
          4000,
          4000,
          6500,
          4000,
          5000,
          8000,
          6500,
          4000,
          8500,
          5000,
          4000,
          4000,
          4000,
          4000,
          4000,
          4000,
          7000,
          4000,
          4000,
          4000,
          5000,
          14000,
          7000,
          7000,
          7000,
          5000,
          4000,
          4000,
          4000,
          4100,
          5000,
          8000,
          4000,
          4000,
          4000,
          4000,
          4000,
          4000,
          4500,
          5000,
          4500,
          4000,
          5500,
          4500,
          4500,
          4000,
          4000,
          4500,
          6500,
          4500,
          7000,
          5000,
          4200,
          5000,
          5556,
          5000,
          4000,
          4000,
          5000,
          4000,
          4000,
          4000,
          4000,
          5500,
          4000,
          4000
         ],
         "y0": " ",
         "yaxis": "y"
        }
       ],
       "layout": {
        "boxmode": "group",
        "legend": {
         "tracegroupgap": 0
        },
        "margin": {
         "t": 60
        },
        "template": {
         "data": {
          "candlestick": [
           {
            "decreasing": {
             "line": {
              "color": "#000033"
             }
            },
            "increasing": {
             "line": {
              "color": "#000032"
             }
            },
            "type": "candlestick"
           }
          ],
          "contour": [
           {
            "colorscale": [
             [
              0,
              "#000011"
             ],
             [
              0.1111111111111111,
              "#000012"
             ],
             [
              0.2222222222222222,
              "#000013"
             ],
             [
              0.3333333333333333,
              "#000014"
             ],
             [
              0.4444444444444444,
              "#000015"
             ],
             [
              0.5555555555555556,
              "#000016"
             ],
             [
              0.6666666666666666,
              "#000017"
             ],
             [
              0.7777777777777778,
              "#000018"
             ],
             [
              0.8888888888888888,
              "#000019"
             ],
             [
              1,
              "#000020"
             ]
            ],
            "type": "contour"
           }
          ],
          "contourcarpet": [
           {
            "colorscale": [
             [
              0,
              "#000011"
             ],
             [
              0.1111111111111111,
              "#000012"
             ],
             [
              0.2222222222222222,
              "#000013"
             ],
             [
              0.3333333333333333,
              "#000014"
             ],
             [
              0.4444444444444444,
              "#000015"
             ],
             [
              0.5555555555555556,
              "#000016"
             ],
             [
              0.6666666666666666,
              "#000017"
             ],
             [
              0.7777777777777778,
              "#000018"
             ],
             [
              0.8888888888888888,
              "#000019"
             ],
             [
              1,
              "#000020"
             ]
            ],
            "type": "contourcarpet"
           }
          ],
          "heatmap": [
           {
            "colorscale": [
             [
              0,
              "#000011"
             ],
             [
              0.1111111111111111,
              "#000012"
             ],
             [
              0.2222222222222222,
              "#000013"
             ],
             [
              0.3333333333333333,
              "#000014"
             ],
             [
              0.4444444444444444,
              "#000015"
             ],
             [
              0.5555555555555556,
              "#000016"
             ],
             [
              0.6666666666666666,
              "#000017"
             ],
             [
              0.7777777777777778,
              "#000018"
             ],
             [
              0.8888888888888888,
              "#000019"
             ],
             [
              1,
              "#000020"
             ]
            ],
            "type": "heatmap"
           }
          ],
          "histogram2d": [
           {
            "colorscale": [
             [
              0,
              "#000011"
             ],
             [
              0.1111111111111111,
              "#000012"
             ],
             [
              0.2222222222222222,
              "#000013"
             ],
             [
              0.3333333333333333,
              "#000014"
             ],
             [
              0.4444444444444444,
              "#000015"
             ],
             [
              0.5555555555555556,
              "#000016"
             ],
             [
              0.6666666666666666,
              "#000017"
             ],
             [
              0.7777777777777778,
              "#000018"
             ],
             [
              0.8888888888888888,
              "#000019"
             ],
             [
              1,
              "#000020"
             ]
            ],
            "type": "histogram2d"
           }
          ],
          "icicle": [
           {
            "textfont": {
             "color": "white"
            },
            "type": "icicle"
           }
          ],
          "sankey": [
           {
            "textfont": {
             "color": "#000036"
            },
            "type": "sankey"
           }
          ],
          "scatter": [
           {
            "marker": {
             "line": {
              "width": 0
             }
            },
            "type": "scatter"
           }
          ],
          "table": [
           {
            "cells": {
             "fill": {
              "color": "#000038"
             },
             "font": {
              "color": "#000037"
             },
             "line": {
              "color": "#000039"
             }
            },
            "header": {
             "fill": {
              "color": "#000040"
             },
             "font": {
              "color": "#000036"
             },
             "line": {
              "color": "#000039"
             }
            },
            "type": "table"
           }
          ],
          "waterfall": [
           {
            "connector": {
             "line": {
              "color": "#000036",
              "width": 2
             }
            },
            "decreasing": {
             "marker": {
              "color": "#000033"
             }
            },
            "increasing": {
             "marker": {
              "color": "#000032"
             }
            },
            "totals": {
             "marker": {
              "color": "#000034"
             }
            },
            "type": "waterfall"
           }
          ]
         },
         "layout": {
          "coloraxis": {
           "colorscale": [
            [
             0,
             "#000011"
            ],
            [
             0.1111111111111111,
             "#000012"
            ],
            [
             0.2222222222222222,
             "#000013"
            ],
            [
             0.3333333333333333,
             "#000014"
            ],
            [
             0.4444444444444444,
             "#000015"
            ],
            [
             0.5555555555555556,
             "#000016"
            ],
            [
             0.6666666666666666,
             "#000017"
            ],
            [
             0.7777777777777778,
             "#000018"
            ],
            [
             0.8888888888888888,
             "#000019"
            ],
            [
             1,
             "#000020"
            ]
           ]
          },
          "colorscale": {
           "diverging": [
            [
             0,
             "#000021"
            ],
            [
             0.1,
             "#000022"
            ],
            [
             0.2,
             "#000023"
            ],
            [
             0.3,
             "#000024"
            ],
            [
             0.4,
             "#000025"
            ],
            [
             0.5,
             "#000026"
            ],
            [
             0.6,
             "#000027"
            ],
            [
             0.7,
             "#000028"
            ],
            [
             0.8,
             "#000029"
            ],
            [
             0.9,
             "#000030"
            ],
            [
             1,
             "#000031"
            ]
           ],
           "sequential": [
            [
             0,
             "#000011"
            ],
            [
             0.1111111111111111,
             "#000012"
            ],
            [
             0.2222222222222222,
             "#000013"
            ],
            [
             0.3333333333333333,
             "#000014"
            ],
            [
             0.4444444444444444,
             "#000015"
            ],
            [
             0.5555555555555556,
             "#000016"
            ],
            [
             0.6666666666666666,
             "#000017"
            ],
            [
             0.7777777777777778,
             "#000018"
            ],
            [
             0.8888888888888888,
             "#000019"
            ],
            [
             1,
             "#000020"
            ]
           ],
           "sequentialminus": [
            [
             0,
             "#000011"
            ],
            [
             0.1111111111111111,
             "#000012"
            ],
            [
             0.2222222222222222,
             "#000013"
            ],
            [
             0.3333333333333333,
             "#000014"
            ],
            [
             0.4444444444444444,
             "#000015"
            ],
            [
             0.5555555555555556,
             "#000016"
            ],
            [
             0.6666666666666666,
             "#000017"
            ],
            [
             0.7777777777777778,
             "#000018"
            ],
            [
             0.8888888888888888,
             "#000019"
            ],
            [
             1,
             "#000020"
            ]
           ]
          },
          "colorway": [
           "#000001",
           "#000002",
           "#000003",
           "#000004",
           "#000005",
           "#000006",
           "#000007",
           "#000008",
           "#000009",
           "#000010"
          ]
         }
        },
        "xaxis": {
         "anchor": "y",
         "domain": [
          0,
          1
         ]
        },
        "yaxis": {
         "anchor": "x",
         "domain": [
          0,
          1
         ],
         "title": {
          "text": "salary (SAR)"
         }
        }
       }
      }
     },
     "metadata": {},
     "output_type": "display_data"
    }
   ],
   "source": [
    "fig = px.box(df, y = 'salary (SAR)')\n",
    "fig.show()"
   ]
  },
  {
   "cell_type": "markdown",
   "id": "83cd99a9",
   "metadata": {},
   "source": [
    "Q1 What proportion of job postings is attributed to each region within the kingdom?"
   ]
  },
  {
   "cell_type": "code",
   "execution_count": 80,
   "id": "72ece4b7-5508-403a-8fb0-f519fc74272a",
   "metadata": {},
   "outputs": [
    {
     "data": {
      "application/vnd.plotly.v1+json": {
       "config": {
        "plotlyServerURL": "https://plot.ly"
       },
       "data": [
        {
         "domain": {
          "x": [
           0,
           1
          ],
          "y": [
           0,
           1
          ]
         },
         "hovertemplate": "region=%{label}<br>count=%{value}<extra></extra>",
         "labels": [
          "الرياض",
          "مكة المكرمة",
          "المنطقة الشرقية",
          "المدينة المنورة",
          "الباحة",
          "عسير",
          "القصيم",
          "حائل",
          "تبوك",
          "نجران",
          "جازان",
          "الحدود الشمالية",
          "الجوف",
          "اخرى"
         ],
         "legendgroup": "",
         "name": "",
         "showlegend": true,
         "type": "pie",
         "values": [
          590,
          346,
          209,
          79,
          45,
          38,
          30,
          18,
          11,
          8,
          7,
          4,
          4,
          1
         ]
        }
       ],
       "layout": {
        "legend": {
         "tracegroupgap": 0
        },
        "piecolorway": [
         "#1f77b4",
         "#ff7f0e",
         "#2ca02c",
         "#d62728",
         "#9467bd",
         "#8c564b",
         "#e377c2",
         "#7f7f7f"
        ],
        "template": {
         "data": {
          "candlestick": [
           {
            "decreasing": {
             "line": {
              "color": "#000033"
             }
            },
            "increasing": {
             "line": {
              "color": "#000032"
             }
            },
            "type": "candlestick"
           }
          ],
          "contour": [
           {
            "colorscale": [
             [
              0,
              "#000011"
             ],
             [
              0.1111111111111111,
              "#000012"
             ],
             [
              0.2222222222222222,
              "#000013"
             ],
             [
              0.3333333333333333,
              "#000014"
             ],
             [
              0.4444444444444444,
              "#000015"
             ],
             [
              0.5555555555555556,
              "#000016"
             ],
             [
              0.6666666666666666,
              "#000017"
             ],
             [
              0.7777777777777778,
              "#000018"
             ],
             [
              0.8888888888888888,
              "#000019"
             ],
             [
              1,
              "#000020"
             ]
            ],
            "type": "contour"
           }
          ],
          "contourcarpet": [
           {
            "colorscale": [
             [
              0,
              "#000011"
             ],
             [
              0.1111111111111111,
              "#000012"
             ],
             [
              0.2222222222222222,
              "#000013"
             ],
             [
              0.3333333333333333,
              "#000014"
             ],
             [
              0.4444444444444444,
              "#000015"
             ],
             [
              0.5555555555555556,
              "#000016"
             ],
             [
              0.6666666666666666,
              "#000017"
             ],
             [
              0.7777777777777778,
              "#000018"
             ],
             [
              0.8888888888888888,
              "#000019"
             ],
             [
              1,
              "#000020"
             ]
            ],
            "type": "contourcarpet"
           }
          ],
          "heatmap": [
           {
            "colorscale": [
             [
              0,
              "#000011"
             ],
             [
              0.1111111111111111,
              "#000012"
             ],
             [
              0.2222222222222222,
              "#000013"
             ],
             [
              0.3333333333333333,
              "#000014"
             ],
             [
              0.4444444444444444,
              "#000015"
             ],
             [
              0.5555555555555556,
              "#000016"
             ],
             [
              0.6666666666666666,
              "#000017"
             ],
             [
              0.7777777777777778,
              "#000018"
             ],
             [
              0.8888888888888888,
              "#000019"
             ],
             [
              1,
              "#000020"
             ]
            ],
            "type": "heatmap"
           }
          ],
          "histogram2d": [
           {
            "colorscale": [
             [
              0,
              "#000011"
             ],
             [
              0.1111111111111111,
              "#000012"
             ],
             [
              0.2222222222222222,
              "#000013"
             ],
             [
              0.3333333333333333,
              "#000014"
             ],
             [
              0.4444444444444444,
              "#000015"
             ],
             [
              0.5555555555555556,
              "#000016"
             ],
             [
              0.6666666666666666,
              "#000017"
             ],
             [
              0.7777777777777778,
              "#000018"
             ],
             [
              0.8888888888888888,
              "#000019"
             ],
             [
              1,
              "#000020"
             ]
            ],
            "type": "histogram2d"
           }
          ],
          "icicle": [
           {
            "textfont": {
             "color": "white"
            },
            "type": "icicle"
           }
          ],
          "sankey": [
           {
            "textfont": {
             "color": "#000036"
            },
            "type": "sankey"
           }
          ],
          "scatter": [
           {
            "marker": {
             "line": {
              "width": 0
             }
            },
            "type": "scatter"
           }
          ],
          "table": [
           {
            "cells": {
             "fill": {
              "color": "#000038"
             },
             "font": {
              "color": "#000037"
             },
             "line": {
              "color": "#000039"
             }
            },
            "header": {
             "fill": {
              "color": "#000040"
             },
             "font": {
              "color": "#000036"
             },
             "line": {
              "color": "#000039"
             }
            },
            "type": "table"
           }
          ],
          "waterfall": [
           {
            "connector": {
             "line": {
              "color": "#000036",
              "width": 2
             }
            },
            "decreasing": {
             "marker": {
              "color": "#000033"
             }
            },
            "increasing": {
             "marker": {
              "color": "#000032"
             }
            },
            "totals": {
             "marker": {
              "color": "#000034"
             }
            },
            "type": "waterfall"
           }
          ]
         },
         "layout": {
          "coloraxis": {
           "colorscale": [
            [
             0,
             "#000011"
            ],
            [
             0.1111111111111111,
             "#000012"
            ],
            [
             0.2222222222222222,
             "#000013"
            ],
            [
             0.3333333333333333,
             "#000014"
            ],
            [
             0.4444444444444444,
             "#000015"
            ],
            [
             0.5555555555555556,
             "#000016"
            ],
            [
             0.6666666666666666,
             "#000017"
            ],
            [
             0.7777777777777778,
             "#000018"
            ],
            [
             0.8888888888888888,
             "#000019"
            ],
            [
             1,
             "#000020"
            ]
           ]
          },
          "colorscale": {
           "diverging": [
            [
             0,
             "#000021"
            ],
            [
             0.1,
             "#000022"
            ],
            [
             0.2,
             "#000023"
            ],
            [
             0.3,
             "#000024"
            ],
            [
             0.4,
             "#000025"
            ],
            [
             0.5,
             "#000026"
            ],
            [
             0.6,
             "#000027"
            ],
            [
             0.7,
             "#000028"
            ],
            [
             0.8,
             "#000029"
            ],
            [
             0.9,
             "#000030"
            ],
            [
             1,
             "#000031"
            ]
           ],
           "sequential": [
            [
             0,
             "#000011"
            ],
            [
             0.1111111111111111,
             "#000012"
            ],
            [
             0.2222222222222222,
             "#000013"
            ],
            [
             0.3333333333333333,
             "#000014"
            ],
            [
             0.4444444444444444,
             "#000015"
            ],
            [
             0.5555555555555556,
             "#000016"
            ],
            [
             0.6666666666666666,
             "#000017"
            ],
            [
             0.7777777777777778,
             "#000018"
            ],
            [
             0.8888888888888888,
             "#000019"
            ],
            [
             1,
             "#000020"
            ]
           ],
           "sequentialminus": [
            [
             0,
             "#000011"
            ],
            [
             0.1111111111111111,
             "#000012"
            ],
            [
             0.2222222222222222,
             "#000013"
            ],
            [
             0.3333333333333333,
             "#000014"
            ],
            [
             0.4444444444444444,
             "#000015"
            ],
            [
             0.5555555555555556,
             "#000016"
            ],
            [
             0.6666666666666666,
             "#000017"
            ],
            [
             0.7777777777777778,
             "#000018"
            ],
            [
             0.8888888888888888,
             "#000019"
            ],
            [
             1,
             "#000020"
            ]
           ]
          },
          "colorway": [
           "#000001",
           "#000002",
           "#000003",
           "#000004",
           "#000005",
           "#000006",
           "#000007",
           "#000008",
           "#000009",
           "#000010"
          ]
         }
        },
        "title": {
         "text": "إعلانات الوظائف لكل المنطقة"
        }
       }
      }
     },
     "metadata": {},
     "output_type": "display_data"
    }
   ],
   "source": [
    "\n",
    "\n",
    "# Group by region and count\n",
    "region_counts = df['region'].value_counts().reset_index()\n",
    "region_counts.columns = ['region', 'count']\n",
    "\n",
    "colors = ['#1f77b4', '#ff7f0e', '#2ca02c', '#d62728', '#9467bd', '#8c564b', '#e377c2', '#7f7f7f']\n",
    "\n",
    "# Create pie chart\n",
    "fig = px.pie(region_counts, values='count', names='region', title=\"إعلانات الوظائف لكل المنطقة\", \n",
    "             color_discrete_sequence=colors)\n",
    "\n",
    "# Show the chart\n",
    "fig.show()\n"
   ]
  },
  {
   "cell_type": "markdown",
   "id": "be9acac0",
   "metadata": {},
   "source": [
    "Q2 Is there a gender preference indicated in the job postings? "
   ]
  },
  {
   "cell_type": "code",
   "execution_count": 83,
   "id": "cb0f1c72",
   "metadata": {},
   "outputs": [
    {
     "data": {
      "application/vnd.plotly.v1+json": {
       "config": {
        "plotlyServerURL": "https://plot.ly"
       },
       "data": [
        {
         "alignmentgroup": "True",
         "hovertemplate": "gender=%{x}<br>Number of Postings=%{y}<extra></extra>",
         "legendgroup": "",
         "marker": {
          "color": "blue",
          "pattern": {
           "shape": ""
          }
         },
         "name": "",
         "offsetgroup": "",
         "orientation": "v",
         "showlegend": false,
         "textposition": "auto",
         "type": "bar",
         "x": [
          "both",
          "M",
          "F"
         ],
         "xaxis": "x",
         "y": [
          550,
          455,
          385
         ],
         "yaxis": "y"
        }
       ],
       "layout": {
        "barmode": "relative",
        "legend": {
         "tracegroupgap": 0
        },
        "template": {
         "data": {
          "candlestick": [
           {
            "decreasing": {
             "line": {
              "color": "#000033"
             }
            },
            "increasing": {
             "line": {
              "color": "#000032"
             }
            },
            "type": "candlestick"
           }
          ],
          "contour": [
           {
            "colorscale": [
             [
              0,
              "#000011"
             ],
             [
              0.1111111111111111,
              "#000012"
             ],
             [
              0.2222222222222222,
              "#000013"
             ],
             [
              0.3333333333333333,
              "#000014"
             ],
             [
              0.4444444444444444,
              "#000015"
             ],
             [
              0.5555555555555556,
              "#000016"
             ],
             [
              0.6666666666666666,
              "#000017"
             ],
             [
              0.7777777777777778,
              "#000018"
             ],
             [
              0.8888888888888888,
              "#000019"
             ],
             [
              1,
              "#000020"
             ]
            ],
            "type": "contour"
           }
          ],
          "contourcarpet": [
           {
            "colorscale": [
             [
              0,
              "#000011"
             ],
             [
              0.1111111111111111,
              "#000012"
             ],
             [
              0.2222222222222222,
              "#000013"
             ],
             [
              0.3333333333333333,
              "#000014"
             ],
             [
              0.4444444444444444,
              "#000015"
             ],
             [
              0.5555555555555556,
              "#000016"
             ],
             [
              0.6666666666666666,
              "#000017"
             ],
             [
              0.7777777777777778,
              "#000018"
             ],
             [
              0.8888888888888888,
              "#000019"
             ],
             [
              1,
              "#000020"
             ]
            ],
            "type": "contourcarpet"
           }
          ],
          "heatmap": [
           {
            "colorscale": [
             [
              0,
              "#000011"
             ],
             [
              0.1111111111111111,
              "#000012"
             ],
             [
              0.2222222222222222,
              "#000013"
             ],
             [
              0.3333333333333333,
              "#000014"
             ],
             [
              0.4444444444444444,
              "#000015"
             ],
             [
              0.5555555555555556,
              "#000016"
             ],
             [
              0.6666666666666666,
              "#000017"
             ],
             [
              0.7777777777777778,
              "#000018"
             ],
             [
              0.8888888888888888,
              "#000019"
             ],
             [
              1,
              "#000020"
             ]
            ],
            "type": "heatmap"
           }
          ],
          "histogram2d": [
           {
            "colorscale": [
             [
              0,
              "#000011"
             ],
             [
              0.1111111111111111,
              "#000012"
             ],
             [
              0.2222222222222222,
              "#000013"
             ],
             [
              0.3333333333333333,
              "#000014"
             ],
             [
              0.4444444444444444,
              "#000015"
             ],
             [
              0.5555555555555556,
              "#000016"
             ],
             [
              0.6666666666666666,
              "#000017"
             ],
             [
              0.7777777777777778,
              "#000018"
             ],
             [
              0.8888888888888888,
              "#000019"
             ],
             [
              1,
              "#000020"
             ]
            ],
            "type": "histogram2d"
           }
          ],
          "icicle": [
           {
            "textfont": {
             "color": "white"
            },
            "type": "icicle"
           }
          ],
          "sankey": [
           {
            "textfont": {
             "color": "#000036"
            },
            "type": "sankey"
           }
          ],
          "scatter": [
           {
            "marker": {
             "line": {
              "width": 0
             }
            },
            "type": "scatter"
           }
          ],
          "table": [
           {
            "cells": {
             "fill": {
              "color": "#000038"
             },
             "font": {
              "color": "#000037"
             },
             "line": {
              "color": "#000039"
             }
            },
            "header": {
             "fill": {
              "color": "#000040"
             },
             "font": {
              "color": "#000036"
             },
             "line": {
              "color": "#000039"
             }
            },
            "type": "table"
           }
          ],
          "waterfall": [
           {
            "connector": {
             "line": {
              "color": "#000036",
              "width": 2
             }
            },
            "decreasing": {
             "marker": {
              "color": "#000033"
             }
            },
            "increasing": {
             "marker": {
              "color": "#000032"
             }
            },
            "totals": {
             "marker": {
              "color": "#000034"
             }
            },
            "type": "waterfall"
           }
          ]
         },
         "layout": {
          "coloraxis": {
           "colorscale": [
            [
             0,
             "#000011"
            ],
            [
             0.1111111111111111,
             "#000012"
            ],
            [
             0.2222222222222222,
             "#000013"
            ],
            [
             0.3333333333333333,
             "#000014"
            ],
            [
             0.4444444444444444,
             "#000015"
            ],
            [
             0.5555555555555556,
             "#000016"
            ],
            [
             0.6666666666666666,
             "#000017"
            ],
            [
             0.7777777777777778,
             "#000018"
            ],
            [
             0.8888888888888888,
             "#000019"
            ],
            [
             1,
             "#000020"
            ]
           ]
          },
          "colorscale": {
           "diverging": [
            [
             0,
             "#000021"
            ],
            [
             0.1,
             "#000022"
            ],
            [
             0.2,
             "#000023"
            ],
            [
             0.3,
             "#000024"
            ],
            [
             0.4,
             "#000025"
            ],
            [
             0.5,
             "#000026"
            ],
            [
             0.6,
             "#000027"
            ],
            [
             0.7,
             "#000028"
            ],
            [
             0.8,
             "#000029"
            ],
            [
             0.9,
             "#000030"
            ],
            [
             1,
             "#000031"
            ]
           ],
           "sequential": [
            [
             0,
             "#000011"
            ],
            [
             0.1111111111111111,
             "#000012"
            ],
            [
             0.2222222222222222,
             "#000013"
            ],
            [
             0.3333333333333333,
             "#000014"
            ],
            [
             0.4444444444444444,
             "#000015"
            ],
            [
             0.5555555555555556,
             "#000016"
            ],
            [
             0.6666666666666666,
             "#000017"
            ],
            [
             0.7777777777777778,
             "#000018"
            ],
            [
             0.8888888888888888,
             "#000019"
            ],
            [
             1,
             "#000020"
            ]
           ],
           "sequentialminus": [
            [
             0,
             "#000011"
            ],
            [
             0.1111111111111111,
             "#000012"
            ],
            [
             0.2222222222222222,
             "#000013"
            ],
            [
             0.3333333333333333,
             "#000014"
            ],
            [
             0.4444444444444444,
             "#000015"
            ],
            [
             0.5555555555555556,
             "#000016"
            ],
            [
             0.6666666666666666,
             "#000017"
            ],
            [
             0.7777777777777778,
             "#000018"
            ],
            [
             0.8888888888888888,
             "#000019"
            ],
            [
             1,
             "#000020"
            ]
           ]
          },
          "colorway": [
           "#000001",
           "#000002",
           "#000003",
           "#000004",
           "#000005",
           "#000006",
           "#000007",
           "#000008",
           "#000009",
           "#000010"
          ]
         }
        },
        "title": {
         "text": "نسب الوظائف لكل جنس"
        },
        "xaxis": {
         "anchor": "y",
         "domain": [
          0,
          1
         ],
         "title": {
          "text": "gender"
         }
        },
        "yaxis": {
         "anchor": "x",
         "domain": [
          0,
          1
         ],
         "title": {
          "text": "Number of Postings"
         }
        }
       }
      }
     },
     "metadata": {},
     "output_type": "display_data"
    }
   ],
   "source": [
    "gender_counts = df['gender'].value_counts().reset_index()\n",
    "gender_counts.columns = ['gender', 'count']\n",
    "\n",
    "# Creating the bar chart\n",
    "fig = px.bar(gender_counts, x='gender', y='count', \n",
    "             title='نسب الوظائف لكل جنس',\n",
    "             labels={'count': 'Number of Postings'},\n",
    "             color_discrete_sequence=['blue'])  \n",
    "\n",
    "# Show the chart\n",
    "fig.show()"
   ]
  },
  {
   "cell_type": "markdown",
   "id": "1a41f0c2",
   "metadata": {},
   "source": [
    "Q3 What is the expected salary range for fresh graduates?"
   ]
  },
  {
   "cell_type": "code",
   "execution_count": 89,
   "id": "5be16f08-a072-4a02-a3ee-6f9d57786fb4",
   "metadata": {},
   "outputs": [
    {
     "data": {
      "application/vnd.plotly.v1+json": {
       "config": {
        "plotlyServerURL": "https://plot.ly"
       },
       "data": [
        {
         "alignmentgroup": "True",
         "bingroup": "x",
         "hovertemplate": "Salary (SAR)=%{x}<br>count=%{y}<extra></extra>",
         "legendgroup": "",
         "marker": {
          "color": "blue",
          "pattern": {
           "shape": ""
          }
         },
         "name": "",
         "nbinsx": 10,
         "offsetgroup": "",
         "orientation": "v",
         "showlegend": false,
         "type": "histogram",
         "x": [
          5000,
          5000,
          5000,
          5000,
          4500,
          7200,
          4000,
          7200,
          5500,
          5000,
          4000,
          4000,
          4000,
          5500,
          3200,
          4500,
          4500,
          4000,
          4000,
          5500,
          4500,
          4500,
          4000,
          5000,
          4000,
          4170,
          4000,
          4500,
          5500,
          6000,
          4000,
          4500,
          4500,
          4000,
          4000,
          4000,
          4000,
          4000,
          4000,
          4000,
          4000,
          4000,
          7000,
          6000,
          4000,
          4000,
          4000,
          7000,
          5000,
          5500,
          3640,
          5000,
          4000,
          5000,
          5500,
          4000,
          4000,
          7000,
          7000,
          4000,
          4000,
          4000,
          4000,
          4000,
          4000,
          5000,
          4500,
          3000,
          4400,
          4000,
          4000,
          4000,
          4000,
          3200,
          4082,
          4000,
          4000,
          4000,
          4000,
          4000,
          4500,
          4000,
          4082,
          4082,
          6000,
          7000,
          4000,
          5000,
          5000,
          5000,
          8400,
          8400,
          8400,
          8400,
          6150,
          6000,
          4400,
          7000,
          4000,
          4000,
          4000,
          4000,
          4000,
          5000,
          5000,
          4000,
          5000,
          4500,
          4000,
          4000,
          4000,
          4000,
          4000,
          6500,
          5000,
          6000,
          3000,
          4000,
          5500,
          4000,
          4000,
          4000,
          4000,
          4000,
          4000,
          4782,
          7000,
          5000,
          6000,
          10000,
          4500,
          4000,
          4500,
          4000,
          4000,
          6000,
          4000,
          4000,
          4000,
          4000,
          4000,
          5000,
          4000,
          6000,
          4000,
          4000,
          4000,
          4000,
          7000,
          4000,
          4000,
          4000,
          5000,
          5000,
          5000,
          4000,
          5000,
          4375,
          6000,
          4000,
          5000,
          4000,
          5500,
          4000,
          5700,
          6000,
          4000,
          4000,
          5000,
          4000,
          6000,
          6000,
          4000,
          4000,
          4000,
          4000,
          4000,
          4444,
          4800,
          6000,
          6000,
          6000,
          6000,
          6000,
          6000,
          5000,
          7000,
          5000,
          4000,
          4500,
          5000,
          4500,
          4000,
          4000,
          4000,
          5000,
          4000,
          4000,
          9200,
          5000,
          4000,
          5600,
          5600,
          5600,
          4000,
          4000,
          5500,
          4800,
          8803,
          4000,
          8803,
          4000,
          7000,
          5000,
          4000,
          4000,
          7000,
          4000,
          4000,
          8000,
          5700,
          5700,
          5700,
          5000,
          5000,
          5000,
          5000,
          4000,
          4000,
          3200,
          4000,
          4000,
          4000,
          6000,
          6000,
          6000,
          3500,
          4000,
          5000,
          4000,
          4000,
          4000,
          5000,
          4000,
          4000,
          5625,
          5000,
          4000,
          5000,
          5000,
          5000,
          5000,
          6000,
          5200,
          4000,
          3600,
          4000,
          4408,
          5000,
          5500,
          4000,
          4000,
          4000,
          5000,
          4000,
          5000,
          4083,
          7000,
          4000,
          4000,
          6500,
          5500,
          4000,
          5000,
          4600,
          4000,
          5000,
          4000,
          8000,
          6000,
          4000,
          4500,
          5000,
          5000,
          4000,
          4000,
          4000,
          4500,
          4000,
          5500,
          4000,
          6250,
          4000,
          4000,
          4000,
          4000,
          4000,
          5500,
          7000,
          4000,
          12325,
          4000,
          5625,
          7000,
          3500,
          6583,
          6583,
          4000,
          6583,
          4000,
          4000,
          4000,
          4000,
          4000,
          4000,
          4000,
          4000,
          4000,
          5500,
          5000,
          4000,
          4000,
          5000,
          4000,
          4500,
          4000,
          4000,
          4500,
          7000,
          4000,
          4000,
          3500,
          4000,
          5000,
          4000,
          4000,
          6000,
          5000,
          4000,
          8000,
          4000,
          4000,
          5000,
          4000,
          4500,
          4000,
          4000,
          4500,
          4500,
          4500,
          7000,
          4500,
          4500,
          4500,
          4500,
          6000,
          4750,
          5000,
          4000,
          4000,
          4500,
          4000,
          5000,
          4000,
          4000,
          4000,
          4000,
          3500,
          4000,
          4500,
          4000,
          4000,
          4000,
          5000,
          8000,
          5000,
          5000,
          5000,
          5000,
          4000,
          4000,
          4000,
          4000,
          4320,
          4630,
          4375,
          4500,
          4500,
          4500,
          4000,
          4500,
          4500,
          4500,
          4000,
          4630,
          4630,
          5000,
          4000,
          7000,
          4000,
          4000,
          5000,
          6000,
          5000,
          5000,
          7000,
          8500,
          4000,
          5000,
          5200,
          4625,
          4000,
          4500,
          4000,
          4500,
          4500,
          8000,
          6500,
          6500,
          5000,
          5000,
          7000,
          4500,
          4500,
          5500,
          5500,
          4500,
          4000,
          5700,
          10250,
          4500,
          4500,
          4500,
          4000,
          4000,
          4000,
          5000,
          4000,
          4000,
          4000,
          4000,
          4000,
          4000,
          4000,
          4000,
          4000,
          5040,
          4170,
          4500,
          4000,
          5000,
          4500,
          4000,
          4000,
          4000,
          4000,
          7000,
          4050,
          4000,
          4000,
          8400,
          8400,
          4000,
          4000,
          4000,
          5000,
          3500,
          4000,
          5000,
          6500,
          4000,
          4000,
          5600,
          7000,
          3500,
          5000,
          4500,
          4500,
          4000,
          4000,
          5000,
          4000,
          5000,
          5000,
          5000,
          4000,
          6500,
          6000,
          5000,
          5000,
          4200,
          3200,
          4000,
          4000,
          4000,
          4000,
          5000,
          5000,
          4000,
          4000,
          4000,
          4000,
          4000,
          4200,
          4000,
          4000,
          4000,
          4082,
          4000,
          4000,
          6000,
          4000,
          3200,
          4000,
          3200,
          4000,
          4000,
          4000,
          5700,
          4000,
          4000,
          4000,
          3000,
          5000,
          4000,
          4000,
          4000,
          4000,
          4000,
          7500,
          4000,
          4000,
          5271,
          4000,
          4667,
          3200,
          4000,
          4000,
          4000,
          4500,
          5500,
          4000,
          4000,
          4000,
          4000,
          4000,
          4000,
          3640,
          4500,
          4000,
          4000,
          4000,
          4000,
          4001,
          4500,
          5500,
          4000,
          4000,
          4000,
          4000,
          4000,
          4000,
          5200,
          5500,
          4000,
          4000,
          6000,
          5000,
          5700,
          5700,
          5700,
          5625,
          5500,
          5000,
          5000,
          7000,
          4500,
          6000,
          5500,
          8000,
          8000,
          4000,
          4000,
          3200,
          5000,
          5000,
          5000,
          4000,
          6000,
          6000,
          4000,
          6000,
          5500,
          5000,
          5000,
          5000,
          4000,
          4000,
          4000,
          4000,
          5000,
          6500,
          6000,
          6000,
          6000,
          6000,
          5000,
          5000,
          5000,
          5000,
          4000,
          7000,
          4000,
          4000,
          5000,
          5000,
          7757,
          4000,
          4000,
          4500,
          3200,
          4500,
          4000,
          4500,
          3500,
          6000,
          4000,
          4000,
          4000,
          6000,
          4000,
          4500,
          4500,
          4000,
          4000,
          4500,
          4500,
          4000,
          4500,
          4500,
          3500,
          4000,
          4000,
          3600,
          3600,
          4000,
          6000,
          4000,
          4000,
          4000,
          4000,
          6000,
          4000,
          4200,
          8000,
          6000,
          4500,
          5000,
          6000,
          4000,
          4082,
          10000,
          4000,
          4000,
          5000,
          4000,
          4000,
          4082,
          5000,
          6000,
          4000,
          7500,
          4000,
          4000,
          4000,
          6000,
          4000,
          4000,
          4900,
          5000,
          5000,
          5500,
          6000,
          3000,
          4000,
          4000,
          4000,
          6000,
          4200,
          4000,
          5000,
          4000,
          4000,
          3500,
          6000,
          7000,
          4500,
          5500,
          4000,
          4000,
          4000,
          4000,
          4000,
          5000,
          4000,
          4000,
          4000,
          4000,
          4000,
          4000,
          4000,
          4000,
          4000,
          4000,
          6000,
          6000,
          4000,
          5500,
          5500,
          5500,
          4000,
          4000,
          4000,
          7000,
          4000,
          5000,
          6000,
          7000,
          7000,
          4000,
          4500,
          4500,
          5500,
          4000,
          5000,
          4000,
          4000,
          4000,
          5000,
          4000,
          4000,
          4900,
          4000,
          4000,
          4500,
          4000,
          4000,
          5000,
          4500,
          4000,
          4000,
          4000,
          4000,
          4000,
          4000,
          4000,
          4000,
          7000,
          4000,
          4000,
          4000,
          7000,
          7000,
          7000,
          4000,
          4000,
          4000,
          4000,
          4000,
          4000,
          4000,
          4500,
          5500,
          4500,
          4500,
          4000,
          4500,
          6500,
          5000,
          5556,
          4000,
          4000,
          5000,
          4000,
          4000,
          5500,
          4000
         ],
         "xaxis": "x",
         "yaxis": "y"
        }
       ],
       "layout": {
        "barmode": "relative",
        "legend": {
         "tracegroupgap": 0
        },
        "template": {
         "data": {
          "candlestick": [
           {
            "decreasing": {
             "line": {
              "color": "#000033"
             }
            },
            "increasing": {
             "line": {
              "color": "#000032"
             }
            },
            "type": "candlestick"
           }
          ],
          "contour": [
           {
            "colorscale": [
             [
              0,
              "#000011"
             ],
             [
              0.1111111111111111,
              "#000012"
             ],
             [
              0.2222222222222222,
              "#000013"
             ],
             [
              0.3333333333333333,
              "#000014"
             ],
             [
              0.4444444444444444,
              "#000015"
             ],
             [
              0.5555555555555556,
              "#000016"
             ],
             [
              0.6666666666666666,
              "#000017"
             ],
             [
              0.7777777777777778,
              "#000018"
             ],
             [
              0.8888888888888888,
              "#000019"
             ],
             [
              1,
              "#000020"
             ]
            ],
            "type": "contour"
           }
          ],
          "contourcarpet": [
           {
            "colorscale": [
             [
              0,
              "#000011"
             ],
             [
              0.1111111111111111,
              "#000012"
             ],
             [
              0.2222222222222222,
              "#000013"
             ],
             [
              0.3333333333333333,
              "#000014"
             ],
             [
              0.4444444444444444,
              "#000015"
             ],
             [
              0.5555555555555556,
              "#000016"
             ],
             [
              0.6666666666666666,
              "#000017"
             ],
             [
              0.7777777777777778,
              "#000018"
             ],
             [
              0.8888888888888888,
              "#000019"
             ],
             [
              1,
              "#000020"
             ]
            ],
            "type": "contourcarpet"
           }
          ],
          "heatmap": [
           {
            "colorscale": [
             [
              0,
              "#000011"
             ],
             [
              0.1111111111111111,
              "#000012"
             ],
             [
              0.2222222222222222,
              "#000013"
             ],
             [
              0.3333333333333333,
              "#000014"
             ],
             [
              0.4444444444444444,
              "#000015"
             ],
             [
              0.5555555555555556,
              "#000016"
             ],
             [
              0.6666666666666666,
              "#000017"
             ],
             [
              0.7777777777777778,
              "#000018"
             ],
             [
              0.8888888888888888,
              "#000019"
             ],
             [
              1,
              "#000020"
             ]
            ],
            "type": "heatmap"
           }
          ],
          "histogram2d": [
           {
            "colorscale": [
             [
              0,
              "#000011"
             ],
             [
              0.1111111111111111,
              "#000012"
             ],
             [
              0.2222222222222222,
              "#000013"
             ],
             [
              0.3333333333333333,
              "#000014"
             ],
             [
              0.4444444444444444,
              "#000015"
             ],
             [
              0.5555555555555556,
              "#000016"
             ],
             [
              0.6666666666666666,
              "#000017"
             ],
             [
              0.7777777777777778,
              "#000018"
             ],
             [
              0.8888888888888888,
              "#000019"
             ],
             [
              1,
              "#000020"
             ]
            ],
            "type": "histogram2d"
           }
          ],
          "icicle": [
           {
            "textfont": {
             "color": "white"
            },
            "type": "icicle"
           }
          ],
          "sankey": [
           {
            "textfont": {
             "color": "#000036"
            },
            "type": "sankey"
           }
          ],
          "scatter": [
           {
            "marker": {
             "line": {
              "width": 0
             }
            },
            "type": "scatter"
           }
          ],
          "table": [
           {
            "cells": {
             "fill": {
              "color": "#000038"
             },
             "font": {
              "color": "#000037"
             },
             "line": {
              "color": "#000039"
             }
            },
            "header": {
             "fill": {
              "color": "#000040"
             },
             "font": {
              "color": "#000036"
             },
             "line": {
              "color": "#000039"
             }
            },
            "type": "table"
           }
          ],
          "waterfall": [
           {
            "connector": {
             "line": {
              "color": "#000036",
              "width": 2
             }
            },
            "decreasing": {
             "marker": {
              "color": "#000033"
             }
            },
            "increasing": {
             "marker": {
              "color": "#000032"
             }
            },
            "totals": {
             "marker": {
              "color": "#000034"
             }
            },
            "type": "waterfall"
           }
          ]
         },
         "layout": {
          "coloraxis": {
           "colorscale": [
            [
             0,
             "#000011"
            ],
            [
             0.1111111111111111,
             "#000012"
            ],
            [
             0.2222222222222222,
             "#000013"
            ],
            [
             0.3333333333333333,
             "#000014"
            ],
            [
             0.4444444444444444,
             "#000015"
            ],
            [
             0.5555555555555556,
             "#000016"
            ],
            [
             0.6666666666666666,
             "#000017"
            ],
            [
             0.7777777777777778,
             "#000018"
            ],
            [
             0.8888888888888888,
             "#000019"
            ],
            [
             1,
             "#000020"
            ]
           ]
          },
          "colorscale": {
           "diverging": [
            [
             0,
             "#000021"
            ],
            [
             0.1,
             "#000022"
            ],
            [
             0.2,
             "#000023"
            ],
            [
             0.3,
             "#000024"
            ],
            [
             0.4,
             "#000025"
            ],
            [
             0.5,
             "#000026"
            ],
            [
             0.6,
             "#000027"
            ],
            [
             0.7,
             "#000028"
            ],
            [
             0.8,
             "#000029"
            ],
            [
             0.9,
             "#000030"
            ],
            [
             1,
             "#000031"
            ]
           ],
           "sequential": [
            [
             0,
             "#000011"
            ],
            [
             0.1111111111111111,
             "#000012"
            ],
            [
             0.2222222222222222,
             "#000013"
            ],
            [
             0.3333333333333333,
             "#000014"
            ],
            [
             0.4444444444444444,
             "#000015"
            ],
            [
             0.5555555555555556,
             "#000016"
            ],
            [
             0.6666666666666666,
             "#000017"
            ],
            [
             0.7777777777777778,
             "#000018"
            ],
            [
             0.8888888888888888,
             "#000019"
            ],
            [
             1,
             "#000020"
            ]
           ],
           "sequentialminus": [
            [
             0,
             "#000011"
            ],
            [
             0.1111111111111111,
             "#000012"
            ],
            [
             0.2222222222222222,
             "#000013"
            ],
            [
             0.3333333333333333,
             "#000014"
            ],
            [
             0.4444444444444444,
             "#000015"
            ],
            [
             0.5555555555555556,
             "#000016"
            ],
            [
             0.6666666666666666,
             "#000017"
            ],
            [
             0.7777777777777778,
             "#000018"
            ],
            [
             0.8888888888888888,
             "#000019"
            ],
            [
             1,
             "#000020"
            ]
           ]
          },
          "colorway": [
           "#000001",
           "#000002",
           "#000003",
           "#000004",
           "#000005",
           "#000006",
           "#000007",
           "#000008",
           "#000009",
           "#000010"
          ]
         }
        },
        "title": {
         "text": "رواتب الخريجين الجدد"
        },
        "xaxis": {
         "anchor": "y",
         "domain": [
          0,
          1
         ],
         "title": {
          "text": "Salary (SAR)"
         }
        },
        "yaxis": {
         "anchor": "x",
         "domain": [
          0,
          1
         ],
         "title": {
          "text": "count"
         }
        }
       }
      }
     },
     "metadata": {},
     "output_type": "display_data"
    }
   ],
   "source": [
    "fresh_graduates_df = df[df['exper'] == 0]\n",
    "\n",
    "# Create a histogram for salary distribution\n",
    "fig = px.histogram(fresh_graduates_df, x='salary (SAR)',\n",
    "                   title='رواتب الخريجين الجدد',\n",
    "                   labels={'salary (SAR)': 'Salary (SAR)'}, \n",
    "                   nbins=10, color_discrete_sequence=['blue'])\n",
    "\n",
    "# Show the plot\n",
    "fig.show()"
   ]
  },
  {
   "cell_type": "markdown",
   "id": "a4de361a",
   "metadata": {},
   "source": [
    "Q4 Are job opportunities predominantly targeted at individuals with exper mience, or is there room for fresh graduates as well?"
   ]
  },
  {
   "cell_type": "code",
   "execution_count": 86,
   "id": "6cea3fbc",
   "metadata": {},
   "outputs": [
    {
     "data": {
      "application/vnd.plotly.v1+json": {
       "config": {
        "plotlyServerURL": "https://plot.ly"
       },
       "data": [
        {
         "alignmentgroup": "True",
         "hovertemplate": "Years of Experience=%{x}<br>Number of Job Postings=%{y}<extra></extra>",
         "legendgroup": "",
         "marker": {
          "color": "blue",
          "pattern": {
           "shape": ""
          }
         },
         "name": "",
         "offsetgroup": "",
         "orientation": "v",
         "showlegend": false,
         "textposition": "auto",
         "type": "bar",
         "x": [
          0,
          2,
          4,
          7,
          10,
          12
         ],
         "xaxis": "x",
         "y": [
          787,
          415,
          142,
          29,
          14,
          3
         ],
         "yaxis": "y"
        }
       ],
       "layout": {
        "barmode": "relative",
        "legend": {
         "tracegroupgap": 0
        },
        "template": {
         "data": {
          "candlestick": [
           {
            "decreasing": {
             "line": {
              "color": "#000033"
             }
            },
            "increasing": {
             "line": {
              "color": "#000032"
             }
            },
            "type": "candlestick"
           }
          ],
          "contour": [
           {
            "colorscale": [
             [
              0,
              "#000011"
             ],
             [
              0.1111111111111111,
              "#000012"
             ],
             [
              0.2222222222222222,
              "#000013"
             ],
             [
              0.3333333333333333,
              "#000014"
             ],
             [
              0.4444444444444444,
              "#000015"
             ],
             [
              0.5555555555555556,
              "#000016"
             ],
             [
              0.6666666666666666,
              "#000017"
             ],
             [
              0.7777777777777778,
              "#000018"
             ],
             [
              0.8888888888888888,
              "#000019"
             ],
             [
              1,
              "#000020"
             ]
            ],
            "type": "contour"
           }
          ],
          "contourcarpet": [
           {
            "colorscale": [
             [
              0,
              "#000011"
             ],
             [
              0.1111111111111111,
              "#000012"
             ],
             [
              0.2222222222222222,
              "#000013"
             ],
             [
              0.3333333333333333,
              "#000014"
             ],
             [
              0.4444444444444444,
              "#000015"
             ],
             [
              0.5555555555555556,
              "#000016"
             ],
             [
              0.6666666666666666,
              "#000017"
             ],
             [
              0.7777777777777778,
              "#000018"
             ],
             [
              0.8888888888888888,
              "#000019"
             ],
             [
              1,
              "#000020"
             ]
            ],
            "type": "contourcarpet"
           }
          ],
          "heatmap": [
           {
            "colorscale": [
             [
              0,
              "#000011"
             ],
             [
              0.1111111111111111,
              "#000012"
             ],
             [
              0.2222222222222222,
              "#000013"
             ],
             [
              0.3333333333333333,
              "#000014"
             ],
             [
              0.4444444444444444,
              "#000015"
             ],
             [
              0.5555555555555556,
              "#000016"
             ],
             [
              0.6666666666666666,
              "#000017"
             ],
             [
              0.7777777777777778,
              "#000018"
             ],
             [
              0.8888888888888888,
              "#000019"
             ],
             [
              1,
              "#000020"
             ]
            ],
            "type": "heatmap"
           }
          ],
          "histogram2d": [
           {
            "colorscale": [
             [
              0,
              "#000011"
             ],
             [
              0.1111111111111111,
              "#000012"
             ],
             [
              0.2222222222222222,
              "#000013"
             ],
             [
              0.3333333333333333,
              "#000014"
             ],
             [
              0.4444444444444444,
              "#000015"
             ],
             [
              0.5555555555555556,
              "#000016"
             ],
             [
              0.6666666666666666,
              "#000017"
             ],
             [
              0.7777777777777778,
              "#000018"
             ],
             [
              0.8888888888888888,
              "#000019"
             ],
             [
              1,
              "#000020"
             ]
            ],
            "type": "histogram2d"
           }
          ],
          "icicle": [
           {
            "textfont": {
             "color": "white"
            },
            "type": "icicle"
           }
          ],
          "sankey": [
           {
            "textfont": {
             "color": "#000036"
            },
            "type": "sankey"
           }
          ],
          "scatter": [
           {
            "marker": {
             "line": {
              "width": 0
             }
            },
            "type": "scatter"
           }
          ],
          "table": [
           {
            "cells": {
             "fill": {
              "color": "#000038"
             },
             "font": {
              "color": "#000037"
             },
             "line": {
              "color": "#000039"
             }
            },
            "header": {
             "fill": {
              "color": "#000040"
             },
             "font": {
              "color": "#000036"
             },
             "line": {
              "color": "#000039"
             }
            },
            "type": "table"
           }
          ],
          "waterfall": [
           {
            "connector": {
             "line": {
              "color": "#000036",
              "width": 2
             }
            },
            "decreasing": {
             "marker": {
              "color": "#000033"
             }
            },
            "increasing": {
             "marker": {
              "color": "#000032"
             }
            },
            "totals": {
             "marker": {
              "color": "#000034"
             }
            },
            "type": "waterfall"
           }
          ]
         },
         "layout": {
          "coloraxis": {
           "colorscale": [
            [
             0,
             "#000011"
            ],
            [
             0.1111111111111111,
             "#000012"
            ],
            [
             0.2222222222222222,
             "#000013"
            ],
            [
             0.3333333333333333,
             "#000014"
            ],
            [
             0.4444444444444444,
             "#000015"
            ],
            [
             0.5555555555555556,
             "#000016"
            ],
            [
             0.6666666666666666,
             "#000017"
            ],
            [
             0.7777777777777778,
             "#000018"
            ],
            [
             0.8888888888888888,
             "#000019"
            ],
            [
             1,
             "#000020"
            ]
           ]
          },
          "colorscale": {
           "diverging": [
            [
             0,
             "#000021"
            ],
            [
             0.1,
             "#000022"
            ],
            [
             0.2,
             "#000023"
            ],
            [
             0.3,
             "#000024"
            ],
            [
             0.4,
             "#000025"
            ],
            [
             0.5,
             "#000026"
            ],
            [
             0.6,
             "#000027"
            ],
            [
             0.7,
             "#000028"
            ],
            [
             0.8,
             "#000029"
            ],
            [
             0.9,
             "#000030"
            ],
            [
             1,
             "#000031"
            ]
           ],
           "sequential": [
            [
             0,
             "#000011"
            ],
            [
             0.1111111111111111,
             "#000012"
            ],
            [
             0.2222222222222222,
             "#000013"
            ],
            [
             0.3333333333333333,
             "#000014"
            ],
            [
             0.4444444444444444,
             "#000015"
            ],
            [
             0.5555555555555556,
             "#000016"
            ],
            [
             0.6666666666666666,
             "#000017"
            ],
            [
             0.7777777777777778,
             "#000018"
            ],
            [
             0.8888888888888888,
             "#000019"
            ],
            [
             1,
             "#000020"
            ]
           ],
           "sequentialminus": [
            [
             0,
             "#000011"
            ],
            [
             0.1111111111111111,
             "#000012"
            ],
            [
             0.2222222222222222,
             "#000013"
            ],
            [
             0.3333333333333333,
             "#000014"
            ],
            [
             0.4444444444444444,
             "#000015"
            ],
            [
             0.5555555555555556,
             "#000016"
            ],
            [
             0.6666666666666666,
             "#000017"
            ],
            [
             0.7777777777777778,
             "#000018"
            ],
            [
             0.8888888888888888,
             "#000019"
            ],
            [
             1,
             "#000020"
            ]
           ]
          },
          "colorway": [
           "#000001",
           "#000002",
           "#000003",
           "#000004",
           "#000005",
           "#000006",
           "#000007",
           "#000008",
           "#000009",
           "#000010"
          ]
         }
        },
        "title": {
         "text": "فرص العمل حسب سنوات الخبرة"
        },
        "xaxis": {
         "anchor": "y",
         "domain": [
          0,
          1
         ],
         "title": {
          "text": "Years of Experience"
         }
        },
        "yaxis": {
         "anchor": "x",
         "domain": [
          0,
          1
         ],
         "title": {
          "text": "Number of Job Postings"
         }
        }
       }
      }
     },
     "metadata": {},
     "output_type": "display_data"
    }
   ],
   "source": [
    "experience_counts = df['exper'].value_counts().reset_index()\n",
    "experience_counts.columns = ['years_of_experience', 'count']\n",
    "\n",
    "# Creating the bar chart\n",
    "fig = px.bar(experience_counts, x='years_of_experience', y='count', \n",
    "             title='فرص العمل حسب سنوات الخبرة',\n",
    "             labels={'count': 'Number of Job Postings', 'years_of_experience': 'Years of Experience'},\n",
    "             color_discrete_sequence=['blue'])\n",
    "\n",
    "# Show the chart\n",
    "fig.show()"
   ]
  }
 ],
 "metadata": {
  "kernelspec": {
   "display_name": "base",
   "language": "python",
   "name": "python3"
  },
  "language_info": {
   "codemirror_mode": {
    "name": "ipython",
    "version": 3
   },
   "file_extension": ".py",
   "mimetype": "text/x-python",
   "name": "python",
   "nbconvert_exporter": "python",
   "pygments_lexer": "ipython3",
   "version": "3.9.13"
  }
 },
 "nbformat": 4,
 "nbformat_minor": 5
}
